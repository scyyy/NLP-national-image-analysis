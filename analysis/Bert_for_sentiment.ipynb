{
  "nbformat": 4,
  "nbformat_minor": 0,
  "metadata": {
    "colab": {
      "name": "Bert_for_sentiment.ipynb",
      "provenance": [],
      "collapsed_sections": [],
      "machine_shape": "hm"
    },
    "kernelspec": {
      "name": "python3",
      "display_name": "Python 3"
    },
    "accelerator": "GPU",
    "widgets": {
      "application/vnd.jupyter.widget-state+json": {
        "3d3ce94390994f97a5f88757b3ca98fc": {
          "model_module": "@jupyter-widgets/controls",
          "model_name": "HBoxModel",
          "state": {
            "_view_name": "HBoxView",
            "_dom_classes": [],
            "_model_name": "HBoxModel",
            "_view_module": "@jupyter-widgets/controls",
            "_model_module_version": "1.5.0",
            "_view_count": null,
            "_view_module_version": "1.5.0",
            "box_style": "",
            "layout": "IPY_MODEL_138184d44f5a46149dbe78c50760937e",
            "_model_module": "@jupyter-widgets/controls",
            "children": [
              "IPY_MODEL_3ba9629c7c164defb84a713d65893c8b",
              "IPY_MODEL_e4dd8b779d66467195886a6269c09ce4"
            ]
          }
        },
        "138184d44f5a46149dbe78c50760937e": {
          "model_module": "@jupyter-widgets/base",
          "model_name": "LayoutModel",
          "state": {
            "_view_name": "LayoutView",
            "grid_template_rows": null,
            "right": null,
            "justify_content": null,
            "_view_module": "@jupyter-widgets/base",
            "overflow": null,
            "_model_module_version": "1.2.0",
            "_view_count": null,
            "flex_flow": null,
            "width": null,
            "min_width": null,
            "border": null,
            "align_items": null,
            "bottom": null,
            "_model_module": "@jupyter-widgets/base",
            "top": null,
            "grid_column": null,
            "overflow_y": null,
            "overflow_x": null,
            "grid_auto_flow": null,
            "grid_area": null,
            "grid_template_columns": null,
            "flex": null,
            "_model_name": "LayoutModel",
            "justify_items": null,
            "grid_row": null,
            "max_height": null,
            "align_content": null,
            "visibility": null,
            "align_self": null,
            "height": null,
            "min_height": null,
            "padding": null,
            "grid_auto_rows": null,
            "grid_gap": null,
            "max_width": null,
            "order": null,
            "_view_module_version": "1.2.0",
            "grid_template_areas": null,
            "object_position": null,
            "object_fit": null,
            "grid_auto_columns": null,
            "margin": null,
            "display": null,
            "left": null
          }
        },
        "3ba9629c7c164defb84a713d65893c8b": {
          "model_module": "@jupyter-widgets/controls",
          "model_name": "IntProgressModel",
          "state": {
            "_view_name": "ProgressView",
            "style": "IPY_MODEL_8e25882a11594180ab54651ef71b448c",
            "_dom_classes": [],
            "description": "Downloading",
            "_model_name": "IntProgressModel",
            "bar_style": "success",
            "max": 231508,
            "_view_module": "@jupyter-widgets/controls",
            "_model_module_version": "1.5.0",
            "value": 231508,
            "_view_count": null,
            "_view_module_version": "1.5.0",
            "orientation": "horizontal",
            "min": 0,
            "description_tooltip": null,
            "_model_module": "@jupyter-widgets/controls",
            "layout": "IPY_MODEL_db07ffab1dbc475c80c014a51ef428cc"
          }
        },
        "e4dd8b779d66467195886a6269c09ce4": {
          "model_module": "@jupyter-widgets/controls",
          "model_name": "HTMLModel",
          "state": {
            "_view_name": "HTMLView",
            "style": "IPY_MODEL_555973871beb46889ad50599b13db16f",
            "_dom_classes": [],
            "description": "",
            "_model_name": "HTMLModel",
            "placeholder": "​",
            "_view_module": "@jupyter-widgets/controls",
            "_model_module_version": "1.5.0",
            "value": "100% 232k/232k [00:00&lt;00:00, 1.13MB/s]",
            "_view_count": null,
            "_view_module_version": "1.5.0",
            "description_tooltip": null,
            "_model_module": "@jupyter-widgets/controls",
            "layout": "IPY_MODEL_04b005f9d2934f51aff76f73fdcfca97"
          }
        },
        "8e25882a11594180ab54651ef71b448c": {
          "model_module": "@jupyter-widgets/controls",
          "model_name": "ProgressStyleModel",
          "state": {
            "_view_name": "StyleView",
            "_model_name": "ProgressStyleModel",
            "description_width": "initial",
            "_view_module": "@jupyter-widgets/base",
            "_model_module_version": "1.5.0",
            "_view_count": null,
            "_view_module_version": "1.2.0",
            "bar_color": null,
            "_model_module": "@jupyter-widgets/controls"
          }
        },
        "db07ffab1dbc475c80c014a51ef428cc": {
          "model_module": "@jupyter-widgets/base",
          "model_name": "LayoutModel",
          "state": {
            "_view_name": "LayoutView",
            "grid_template_rows": null,
            "right": null,
            "justify_content": null,
            "_view_module": "@jupyter-widgets/base",
            "overflow": null,
            "_model_module_version": "1.2.0",
            "_view_count": null,
            "flex_flow": null,
            "width": null,
            "min_width": null,
            "border": null,
            "align_items": null,
            "bottom": null,
            "_model_module": "@jupyter-widgets/base",
            "top": null,
            "grid_column": null,
            "overflow_y": null,
            "overflow_x": null,
            "grid_auto_flow": null,
            "grid_area": null,
            "grid_template_columns": null,
            "flex": null,
            "_model_name": "LayoutModel",
            "justify_items": null,
            "grid_row": null,
            "max_height": null,
            "align_content": null,
            "visibility": null,
            "align_self": null,
            "height": null,
            "min_height": null,
            "padding": null,
            "grid_auto_rows": null,
            "grid_gap": null,
            "max_width": null,
            "order": null,
            "_view_module_version": "1.2.0",
            "grid_template_areas": null,
            "object_position": null,
            "object_fit": null,
            "grid_auto_columns": null,
            "margin": null,
            "display": null,
            "left": null
          }
        },
        "555973871beb46889ad50599b13db16f": {
          "model_module": "@jupyter-widgets/controls",
          "model_name": "DescriptionStyleModel",
          "state": {
            "_view_name": "StyleView",
            "_model_name": "DescriptionStyleModel",
            "description_width": "",
            "_view_module": "@jupyter-widgets/base",
            "_model_module_version": "1.5.0",
            "_view_count": null,
            "_view_module_version": "1.2.0",
            "_model_module": "@jupyter-widgets/controls"
          }
        },
        "04b005f9d2934f51aff76f73fdcfca97": {
          "model_module": "@jupyter-widgets/base",
          "model_name": "LayoutModel",
          "state": {
            "_view_name": "LayoutView",
            "grid_template_rows": null,
            "right": null,
            "justify_content": null,
            "_view_module": "@jupyter-widgets/base",
            "overflow": null,
            "_model_module_version": "1.2.0",
            "_view_count": null,
            "flex_flow": null,
            "width": null,
            "min_width": null,
            "border": null,
            "align_items": null,
            "bottom": null,
            "_model_module": "@jupyter-widgets/base",
            "top": null,
            "grid_column": null,
            "overflow_y": null,
            "overflow_x": null,
            "grid_auto_flow": null,
            "grid_area": null,
            "grid_template_columns": null,
            "flex": null,
            "_model_name": "LayoutModel",
            "justify_items": null,
            "grid_row": null,
            "max_height": null,
            "align_content": null,
            "visibility": null,
            "align_self": null,
            "height": null,
            "min_height": null,
            "padding": null,
            "grid_auto_rows": null,
            "grid_gap": null,
            "max_width": null,
            "order": null,
            "_view_module_version": "1.2.0",
            "grid_template_areas": null,
            "object_position": null,
            "object_fit": null,
            "grid_auto_columns": null,
            "margin": null,
            "display": null,
            "left": null
          }
        },
        "734a29b57de54c39ada90983bd6a25cd": {
          "model_module": "@jupyter-widgets/controls",
          "model_name": "HBoxModel",
          "state": {
            "_view_name": "HBoxView",
            "_dom_classes": [],
            "_model_name": "HBoxModel",
            "_view_module": "@jupyter-widgets/controls",
            "_model_module_version": "1.5.0",
            "_view_count": null,
            "_view_module_version": "1.5.0",
            "box_style": "",
            "layout": "IPY_MODEL_c71020f51d9c4cedab761e45374f6991",
            "_model_module": "@jupyter-widgets/controls",
            "children": [
              "IPY_MODEL_b0d6a4f4f61c4777b2a98d071f5243e4",
              "IPY_MODEL_a39fa4516c064317b3cf305e7f15deeb"
            ]
          }
        },
        "c71020f51d9c4cedab761e45374f6991": {
          "model_module": "@jupyter-widgets/base",
          "model_name": "LayoutModel",
          "state": {
            "_view_name": "LayoutView",
            "grid_template_rows": null,
            "right": null,
            "justify_content": null,
            "_view_module": "@jupyter-widgets/base",
            "overflow": null,
            "_model_module_version": "1.2.0",
            "_view_count": null,
            "flex_flow": null,
            "width": null,
            "min_width": null,
            "border": null,
            "align_items": null,
            "bottom": null,
            "_model_module": "@jupyter-widgets/base",
            "top": null,
            "grid_column": null,
            "overflow_y": null,
            "overflow_x": null,
            "grid_auto_flow": null,
            "grid_area": null,
            "grid_template_columns": null,
            "flex": null,
            "_model_name": "LayoutModel",
            "justify_items": null,
            "grid_row": null,
            "max_height": null,
            "align_content": null,
            "visibility": null,
            "align_self": null,
            "height": null,
            "min_height": null,
            "padding": null,
            "grid_auto_rows": null,
            "grid_gap": null,
            "max_width": null,
            "order": null,
            "_view_module_version": "1.2.0",
            "grid_template_areas": null,
            "object_position": null,
            "object_fit": null,
            "grid_auto_columns": null,
            "margin": null,
            "display": null,
            "left": null
          }
        },
        "b0d6a4f4f61c4777b2a98d071f5243e4": {
          "model_module": "@jupyter-widgets/controls",
          "model_name": "IntProgressModel",
          "state": {
            "_view_name": "ProgressView",
            "style": "IPY_MODEL_f09ac11e87554aacab68c8fff1417c57",
            "_dom_classes": [],
            "description": "Downloading",
            "_model_name": "IntProgressModel",
            "bar_style": "success",
            "max": 361,
            "_view_module": "@jupyter-widgets/controls",
            "_model_module_version": "1.5.0",
            "value": 361,
            "_view_count": null,
            "_view_module_version": "1.5.0",
            "orientation": "horizontal",
            "min": 0,
            "description_tooltip": null,
            "_model_module": "@jupyter-widgets/controls",
            "layout": "IPY_MODEL_47e43363e3754494af0d64b8829be604"
          }
        },
        "a39fa4516c064317b3cf305e7f15deeb": {
          "model_module": "@jupyter-widgets/controls",
          "model_name": "HTMLModel",
          "state": {
            "_view_name": "HTMLView",
            "style": "IPY_MODEL_0504bba6ad2740e88de8c3d7384eb10d",
            "_dom_classes": [],
            "description": "",
            "_model_name": "HTMLModel",
            "placeholder": "​",
            "_view_module": "@jupyter-widgets/controls",
            "_model_module_version": "1.5.0",
            "value": "100% 361/361 [00:00&lt;00:00, 16.1kB/s]",
            "_view_count": null,
            "_view_module_version": "1.5.0",
            "description_tooltip": null,
            "_model_module": "@jupyter-widgets/controls",
            "layout": "IPY_MODEL_bd01814f08304b2b97a981cea130c03f"
          }
        },
        "f09ac11e87554aacab68c8fff1417c57": {
          "model_module": "@jupyter-widgets/controls",
          "model_name": "ProgressStyleModel",
          "state": {
            "_view_name": "StyleView",
            "_model_name": "ProgressStyleModel",
            "description_width": "initial",
            "_view_module": "@jupyter-widgets/base",
            "_model_module_version": "1.5.0",
            "_view_count": null,
            "_view_module_version": "1.2.0",
            "bar_color": null,
            "_model_module": "@jupyter-widgets/controls"
          }
        },
        "47e43363e3754494af0d64b8829be604": {
          "model_module": "@jupyter-widgets/base",
          "model_name": "LayoutModel",
          "state": {
            "_view_name": "LayoutView",
            "grid_template_rows": null,
            "right": null,
            "justify_content": null,
            "_view_module": "@jupyter-widgets/base",
            "overflow": null,
            "_model_module_version": "1.2.0",
            "_view_count": null,
            "flex_flow": null,
            "width": null,
            "min_width": null,
            "border": null,
            "align_items": null,
            "bottom": null,
            "_model_module": "@jupyter-widgets/base",
            "top": null,
            "grid_column": null,
            "overflow_y": null,
            "overflow_x": null,
            "grid_auto_flow": null,
            "grid_area": null,
            "grid_template_columns": null,
            "flex": null,
            "_model_name": "LayoutModel",
            "justify_items": null,
            "grid_row": null,
            "max_height": null,
            "align_content": null,
            "visibility": null,
            "align_self": null,
            "height": null,
            "min_height": null,
            "padding": null,
            "grid_auto_rows": null,
            "grid_gap": null,
            "max_width": null,
            "order": null,
            "_view_module_version": "1.2.0",
            "grid_template_areas": null,
            "object_position": null,
            "object_fit": null,
            "grid_auto_columns": null,
            "margin": null,
            "display": null,
            "left": null
          }
        },
        "0504bba6ad2740e88de8c3d7384eb10d": {
          "model_module": "@jupyter-widgets/controls",
          "model_name": "DescriptionStyleModel",
          "state": {
            "_view_name": "StyleView",
            "_model_name": "DescriptionStyleModel",
            "description_width": "",
            "_view_module": "@jupyter-widgets/base",
            "_model_module_version": "1.5.0",
            "_view_count": null,
            "_view_module_version": "1.2.0",
            "_model_module": "@jupyter-widgets/controls"
          }
        },
        "bd01814f08304b2b97a981cea130c03f": {
          "model_module": "@jupyter-widgets/base",
          "model_name": "LayoutModel",
          "state": {
            "_view_name": "LayoutView",
            "grid_template_rows": null,
            "right": null,
            "justify_content": null,
            "_view_module": "@jupyter-widgets/base",
            "overflow": null,
            "_model_module_version": "1.2.0",
            "_view_count": null,
            "flex_flow": null,
            "width": null,
            "min_width": null,
            "border": null,
            "align_items": null,
            "bottom": null,
            "_model_module": "@jupyter-widgets/base",
            "top": null,
            "grid_column": null,
            "overflow_y": null,
            "overflow_x": null,
            "grid_auto_flow": null,
            "grid_area": null,
            "grid_template_columns": null,
            "flex": null,
            "_model_name": "LayoutModel",
            "justify_items": null,
            "grid_row": null,
            "max_height": null,
            "align_content": null,
            "visibility": null,
            "align_self": null,
            "height": null,
            "min_height": null,
            "padding": null,
            "grid_auto_rows": null,
            "grid_gap": null,
            "max_width": null,
            "order": null,
            "_view_module_version": "1.2.0",
            "grid_template_areas": null,
            "object_position": null,
            "object_fit": null,
            "grid_auto_columns": null,
            "margin": null,
            "display": null,
            "left": null
          }
        },
        "d3982b7e88ea45c59a7acf15efb029a7": {
          "model_module": "@jupyter-widgets/controls",
          "model_name": "HBoxModel",
          "state": {
            "_view_name": "HBoxView",
            "_dom_classes": [],
            "_model_name": "HBoxModel",
            "_view_module": "@jupyter-widgets/controls",
            "_model_module_version": "1.5.0",
            "_view_count": null,
            "_view_module_version": "1.5.0",
            "box_style": "",
            "layout": "IPY_MODEL_6b8e5043c3a34e4c8256574648347368",
            "_model_module": "@jupyter-widgets/controls",
            "children": [
              "IPY_MODEL_0913b6231ec4445b85fab178453c59fe",
              "IPY_MODEL_f7b72719185645a88c1194737a63c838"
            ]
          }
        },
        "6b8e5043c3a34e4c8256574648347368": {
          "model_module": "@jupyter-widgets/base",
          "model_name": "LayoutModel",
          "state": {
            "_view_name": "LayoutView",
            "grid_template_rows": null,
            "right": null,
            "justify_content": null,
            "_view_module": "@jupyter-widgets/base",
            "overflow": null,
            "_model_module_version": "1.2.0",
            "_view_count": null,
            "flex_flow": null,
            "width": null,
            "min_width": null,
            "border": null,
            "align_items": null,
            "bottom": null,
            "_model_module": "@jupyter-widgets/base",
            "top": null,
            "grid_column": null,
            "overflow_y": null,
            "overflow_x": null,
            "grid_auto_flow": null,
            "grid_area": null,
            "grid_template_columns": null,
            "flex": null,
            "_model_name": "LayoutModel",
            "justify_items": null,
            "grid_row": null,
            "max_height": null,
            "align_content": null,
            "visibility": null,
            "align_self": null,
            "height": null,
            "min_height": null,
            "padding": null,
            "grid_auto_rows": null,
            "grid_gap": null,
            "max_width": null,
            "order": null,
            "_view_module_version": "1.2.0",
            "grid_template_areas": null,
            "object_position": null,
            "object_fit": null,
            "grid_auto_columns": null,
            "margin": null,
            "display": null,
            "left": null
          }
        },
        "0913b6231ec4445b85fab178453c59fe": {
          "model_module": "@jupyter-widgets/controls",
          "model_name": "IntProgressModel",
          "state": {
            "_view_name": "ProgressView",
            "style": "IPY_MODEL_f0f7ca7ee2434ac6a7dc05da3309bed4",
            "_dom_classes": [],
            "description": "Downloading",
            "_model_name": "IntProgressModel",
            "bar_style": "success",
            "max": 440473133,
            "_view_module": "@jupyter-widgets/controls",
            "_model_module_version": "1.5.0",
            "value": 440473133,
            "_view_count": null,
            "_view_module_version": "1.5.0",
            "orientation": "horizontal",
            "min": 0,
            "description_tooltip": null,
            "_model_module": "@jupyter-widgets/controls",
            "layout": "IPY_MODEL_b80cf34c77f74e4da1933b7d0ab154ef"
          }
        },
        "f7b72719185645a88c1194737a63c838": {
          "model_module": "@jupyter-widgets/controls",
          "model_name": "HTMLModel",
          "state": {
            "_view_name": "HTMLView",
            "style": "IPY_MODEL_ca6d3936e02a401486eff95c7917fbcd",
            "_dom_classes": [],
            "description": "",
            "_model_name": "HTMLModel",
            "placeholder": "​",
            "_view_module": "@jupyter-widgets/controls",
            "_model_module_version": "1.5.0",
            "value": "100% 440M/440M [00:13&lt;00:00, 32.0MB/s]",
            "_view_count": null,
            "_view_module_version": "1.5.0",
            "description_tooltip": null,
            "_model_module": "@jupyter-widgets/controls",
            "layout": "IPY_MODEL_1938daa8bb5d4020b22e8e68c5253f2f"
          }
        },
        "f0f7ca7ee2434ac6a7dc05da3309bed4": {
          "model_module": "@jupyter-widgets/controls",
          "model_name": "ProgressStyleModel",
          "state": {
            "_view_name": "StyleView",
            "_model_name": "ProgressStyleModel",
            "description_width": "initial",
            "_view_module": "@jupyter-widgets/base",
            "_model_module_version": "1.5.0",
            "_view_count": null,
            "_view_module_version": "1.2.0",
            "bar_color": null,
            "_model_module": "@jupyter-widgets/controls"
          }
        },
        "b80cf34c77f74e4da1933b7d0ab154ef": {
          "model_module": "@jupyter-widgets/base",
          "model_name": "LayoutModel",
          "state": {
            "_view_name": "LayoutView",
            "grid_template_rows": null,
            "right": null,
            "justify_content": null,
            "_view_module": "@jupyter-widgets/base",
            "overflow": null,
            "_model_module_version": "1.2.0",
            "_view_count": null,
            "flex_flow": null,
            "width": null,
            "min_width": null,
            "border": null,
            "align_items": null,
            "bottom": null,
            "_model_module": "@jupyter-widgets/base",
            "top": null,
            "grid_column": null,
            "overflow_y": null,
            "overflow_x": null,
            "grid_auto_flow": null,
            "grid_area": null,
            "grid_template_columns": null,
            "flex": null,
            "_model_name": "LayoutModel",
            "justify_items": null,
            "grid_row": null,
            "max_height": null,
            "align_content": null,
            "visibility": null,
            "align_self": null,
            "height": null,
            "min_height": null,
            "padding": null,
            "grid_auto_rows": null,
            "grid_gap": null,
            "max_width": null,
            "order": null,
            "_view_module_version": "1.2.0",
            "grid_template_areas": null,
            "object_position": null,
            "object_fit": null,
            "grid_auto_columns": null,
            "margin": null,
            "display": null,
            "left": null
          }
        },
        "ca6d3936e02a401486eff95c7917fbcd": {
          "model_module": "@jupyter-widgets/controls",
          "model_name": "DescriptionStyleModel",
          "state": {
            "_view_name": "StyleView",
            "_model_name": "DescriptionStyleModel",
            "description_width": "",
            "_view_module": "@jupyter-widgets/base",
            "_model_module_version": "1.5.0",
            "_view_count": null,
            "_view_module_version": "1.2.0",
            "_model_module": "@jupyter-widgets/controls"
          }
        },
        "1938daa8bb5d4020b22e8e68c5253f2f": {
          "model_module": "@jupyter-widgets/base",
          "model_name": "LayoutModel",
          "state": {
            "_view_name": "LayoutView",
            "grid_template_rows": null,
            "right": null,
            "justify_content": null,
            "_view_module": "@jupyter-widgets/base",
            "overflow": null,
            "_model_module_version": "1.2.0",
            "_view_count": null,
            "flex_flow": null,
            "width": null,
            "min_width": null,
            "border": null,
            "align_items": null,
            "bottom": null,
            "_model_module": "@jupyter-widgets/base",
            "top": null,
            "grid_column": null,
            "overflow_y": null,
            "overflow_x": null,
            "grid_auto_flow": null,
            "grid_area": null,
            "grid_template_columns": null,
            "flex": null,
            "_model_name": "LayoutModel",
            "justify_items": null,
            "grid_row": null,
            "max_height": null,
            "align_content": null,
            "visibility": null,
            "align_self": null,
            "height": null,
            "min_height": null,
            "padding": null,
            "grid_auto_rows": null,
            "grid_gap": null,
            "max_width": null,
            "order": null,
            "_view_module_version": "1.2.0",
            "grid_template_areas": null,
            "object_position": null,
            "object_fit": null,
            "grid_auto_columns": null,
            "margin": null,
            "display": null,
            "left": null
          }
        }
      }
    }
  },
  "cells": [
    {
      "cell_type": "markdown",
      "metadata": {
        "id": "QQAzCGkT4B8q",
        "colab_type": "text"
      },
      "source": [
        "# Bert for sentiment score"
      ]
    },
    {
      "cell_type": "code",
      "metadata": {
        "id": "iZws-_HzoHC6",
        "colab_type": "code",
        "outputId": "6fe8ac4a-8ba9-4ae8-ff0b-e0044c351842",
        "colab": {
          "base_uri": "https://localhost:8080/",
          "height": 666
        }
      },
      "source": [
        "!pip install transformers"
      ],
      "execution_count": 0,
      "outputs": [
        {
          "output_type": "stream",
          "text": [
            "Collecting transformers\n",
            "\u001b[?25l  Downloading https://files.pythonhosted.org/packages/13/33/ffb67897a6985a7b7d8e5e7878c3628678f553634bd3836404fef06ef19b/transformers-2.5.1-py3-none-any.whl (499kB)\n",
            "\r\u001b[K     |▋                               | 10kB 20.9MB/s eta 0:00:01\r\u001b[K     |█▎                              | 20kB 3.0MB/s eta 0:00:01\r\u001b[K     |██                              | 30kB 4.3MB/s eta 0:00:01\r\u001b[K     |██▋                             | 40kB 2.9MB/s eta 0:00:01\r\u001b[K     |███▎                            | 51kB 3.6MB/s eta 0:00:01\r\u001b[K     |████                            | 61kB 4.2MB/s eta 0:00:01\r\u001b[K     |████▋                           | 71kB 4.8MB/s eta 0:00:01\r\u001b[K     |█████▎                          | 81kB 5.4MB/s eta 0:00:01\r\u001b[K     |██████                          | 92kB 6.1MB/s eta 0:00:01\r\u001b[K     |██████▋                         | 102kB 4.7MB/s eta 0:00:01\r\u001b[K     |███████▏                        | 112kB 4.7MB/s eta 0:00:01\r\u001b[K     |███████▉                        | 122kB 4.7MB/s eta 0:00:01\r\u001b[K     |████████▌                       | 133kB 4.7MB/s eta 0:00:01\r\u001b[K     |█████████▏                      | 143kB 4.7MB/s eta 0:00:01\r\u001b[K     |█████████▉                      | 153kB 4.7MB/s eta 0:00:01\r\u001b[K     |██████████▌                     | 163kB 4.7MB/s eta 0:00:01\r\u001b[K     |███████████▏                    | 174kB 4.7MB/s eta 0:00:01\r\u001b[K     |███████████▉                    | 184kB 4.7MB/s eta 0:00:01\r\u001b[K     |████████████▌                   | 194kB 4.7MB/s eta 0:00:01\r\u001b[K     |█████████████▏                  | 204kB 4.7MB/s eta 0:00:01\r\u001b[K     |█████████████▉                  | 215kB 4.7MB/s eta 0:00:01\r\u001b[K     |██████████████▍                 | 225kB 4.7MB/s eta 0:00:01\r\u001b[K     |███████████████                 | 235kB 4.7MB/s eta 0:00:01\r\u001b[K     |███████████████▊                | 245kB 4.7MB/s eta 0:00:01\r\u001b[K     |████████████████▍               | 256kB 4.7MB/s eta 0:00:01\r\u001b[K     |█████████████████               | 266kB 4.7MB/s eta 0:00:01\r\u001b[K     |█████████████████▊              | 276kB 4.7MB/s eta 0:00:01\r\u001b[K     |██████████████████▍             | 286kB 4.7MB/s eta 0:00:01\r\u001b[K     |███████████████████             | 296kB 4.7MB/s eta 0:00:01\r\u001b[K     |███████████████████▊            | 307kB 4.7MB/s eta 0:00:01\r\u001b[K     |████████████████████▍           | 317kB 4.7MB/s eta 0:00:01\r\u001b[K     |█████████████████████           | 327kB 4.7MB/s eta 0:00:01\r\u001b[K     |█████████████████████▋          | 337kB 4.7MB/s eta 0:00:01\r\u001b[K     |██████████████████████▎         | 348kB 4.7MB/s eta 0:00:01\r\u001b[K     |███████████████████████         | 358kB 4.7MB/s eta 0:00:01\r\u001b[K     |███████████████████████▋        | 368kB 4.7MB/s eta 0:00:01\r\u001b[K     |████████████████████████▎       | 378kB 4.7MB/s eta 0:00:01\r\u001b[K     |█████████████████████████       | 389kB 4.7MB/s eta 0:00:01\r\u001b[K     |█████████████████████████▋      | 399kB 4.7MB/s eta 0:00:01\r\u001b[K     |██████████████████████████▎     | 409kB 4.7MB/s eta 0:00:01\r\u001b[K     |███████████████████████████     | 419kB 4.7MB/s eta 0:00:01\r\u001b[K     |███████████████████████████▋    | 430kB 4.7MB/s eta 0:00:01\r\u001b[K     |████████████████████████████▏   | 440kB 4.7MB/s eta 0:00:01\r\u001b[K     |████████████████████████████▉   | 450kB 4.7MB/s eta 0:00:01\r\u001b[K     |█████████████████████████████▌  | 460kB 4.7MB/s eta 0:00:01\r\u001b[K     |██████████████████████████████▏ | 471kB 4.7MB/s eta 0:00:01\r\u001b[K     |██████████████████████████████▉ | 481kB 4.7MB/s eta 0:00:01\r\u001b[K     |███████████████████████████████▌| 491kB 4.7MB/s eta 0:00:01\r\u001b[K     |████████████████████████████████| 501kB 4.7MB/s \n",
            "\u001b[?25hRequirement already satisfied: boto3 in /usr/local/lib/python3.6/dist-packages (from transformers) (1.11.15)\n",
            "Requirement already satisfied: tqdm>=4.27 in /usr/local/lib/python3.6/dist-packages (from transformers) (4.28.1)\n",
            "Collecting sacremoses\n",
            "\u001b[?25l  Downloading https://files.pythonhosted.org/packages/a6/b4/7a41d630547a4afd58143597d5a49e07bfd4c42914d8335b2a5657efc14b/sacremoses-0.0.38.tar.gz (860kB)\n",
            "\u001b[K     |████████████████████████████████| 870kB 52.6MB/s \n",
            "\u001b[?25hRequirement already satisfied: filelock in /usr/local/lib/python3.6/dist-packages (from transformers) (3.0.12)\n",
            "Collecting sentencepiece\n",
            "\u001b[?25l  Downloading https://files.pythonhosted.org/packages/74/f4/2d5214cbf13d06e7cb2c20d84115ca25b53ea76fa1f0ade0e3c9749de214/sentencepiece-0.1.85-cp36-cp36m-manylinux1_x86_64.whl (1.0MB)\n",
            "\u001b[K     |████████████████████████████████| 1.0MB 32.8MB/s \n",
            "\u001b[?25hRequirement already satisfied: regex!=2019.12.17 in /usr/local/lib/python3.6/dist-packages (from transformers) (2019.12.20)\n",
            "Collecting tokenizers==0.5.2\n",
            "\u001b[?25l  Downloading https://files.pythonhosted.org/packages/d1/3f/73c881ea4723e43c1e9acf317cf407fab3a278daab3a69c98dcac511c04f/tokenizers-0.5.2-cp36-cp36m-manylinux1_x86_64.whl (3.7MB)\n",
            "\u001b[K     |████████████████████████████████| 3.7MB 35.1MB/s \n",
            "\u001b[?25hRequirement already satisfied: requests in /usr/local/lib/python3.6/dist-packages (from transformers) (2.21.0)\n",
            "Requirement already satisfied: numpy in /usr/local/lib/python3.6/dist-packages (from transformers) (1.17.5)\n",
            "Requirement already satisfied: botocore<1.15.0,>=1.14.15 in /usr/local/lib/python3.6/dist-packages (from boto3->transformers) (1.14.15)\n",
            "Requirement already satisfied: jmespath<1.0.0,>=0.7.1 in /usr/local/lib/python3.6/dist-packages (from boto3->transformers) (0.9.4)\n",
            "Requirement already satisfied: s3transfer<0.4.0,>=0.3.0 in /usr/local/lib/python3.6/dist-packages (from boto3->transformers) (0.3.3)\n",
            "Requirement already satisfied: six in /usr/local/lib/python3.6/dist-packages (from sacremoses->transformers) (1.12.0)\n",
            "Requirement already satisfied: click in /usr/local/lib/python3.6/dist-packages (from sacremoses->transformers) (7.0)\n",
            "Requirement already satisfied: joblib in /usr/local/lib/python3.6/dist-packages (from sacremoses->transformers) (0.14.1)\n",
            "Requirement already satisfied: idna<2.9,>=2.5 in /usr/local/lib/python3.6/dist-packages (from requests->transformers) (2.8)\n",
            "Requirement already satisfied: certifi>=2017.4.17 in /usr/local/lib/python3.6/dist-packages (from requests->transformers) (2019.11.28)\n",
            "Requirement already satisfied: chardet<3.1.0,>=3.0.2 in /usr/local/lib/python3.6/dist-packages (from requests->transformers) (3.0.4)\n",
            "Requirement already satisfied: urllib3<1.25,>=1.21.1 in /usr/local/lib/python3.6/dist-packages (from requests->transformers) (1.24.3)\n",
            "Requirement already satisfied: docutils<0.16,>=0.10 in /usr/local/lib/python3.6/dist-packages (from botocore<1.15.0,>=1.14.15->boto3->transformers) (0.15.2)\n",
            "Requirement already satisfied: python-dateutil<3.0.0,>=2.1 in /usr/local/lib/python3.6/dist-packages (from botocore<1.15.0,>=1.14.15->boto3->transformers) (2.6.1)\n",
            "Building wheels for collected packages: sacremoses\n",
            "  Building wheel for sacremoses (setup.py) ... \u001b[?25l\u001b[?25hdone\n",
            "  Created wheel for sacremoses: filename=sacremoses-0.0.38-cp36-none-any.whl size=884628 sha256=24c63cf99e222c9f0f763efe57b35213d6f59f9f859782cdb7d66b48e81e9d23\n",
            "  Stored in directory: /root/.cache/pip/wheels/6d/ec/1a/21b8912e35e02741306f35f66c785f3afe94de754a0eaf1422\n",
            "Successfully built sacremoses\n",
            "Installing collected packages: sacremoses, sentencepiece, tokenizers, transformers\n",
            "Successfully installed sacremoses-0.0.38 sentencepiece-0.1.85 tokenizers-0.5.2 transformers-2.5.1\n"
          ],
          "name": "stdout"
        }
      ]
    },
    {
      "cell_type": "code",
      "metadata": {
        "id": "yJJz79i0Bnib",
        "colab_type": "code",
        "colab": {}
      },
      "source": [
        "import torch\n",
        "\n",
        "import random\n",
        "import numpy as np\n",
        "\n",
        "SEED = 1234\n",
        "\n",
        "random.seed(SEED)\n",
        "np.random.seed(SEED)\n",
        "torch.manual_seed(SEED)\n",
        "torch.backends.cudnn.deterministic = True"
      ],
      "execution_count": 0,
      "outputs": []
    },
    {
      "cell_type": "code",
      "metadata": {
        "id": "vlMM6cIln9y-",
        "colab_type": "code",
        "outputId": "9960d6ad-fb4a-4082-9618-35a123490d4c",
        "colab": {
          "base_uri": "https://localhost:8080/",
          "height": 112,
          "referenced_widgets": [
            "3d3ce94390994f97a5f88757b3ca98fc",
            "138184d44f5a46149dbe78c50760937e",
            "3ba9629c7c164defb84a713d65893c8b",
            "e4dd8b779d66467195886a6269c09ce4",
            "8e25882a11594180ab54651ef71b448c",
            "db07ffab1dbc475c80c014a51ef428cc",
            "555973871beb46889ad50599b13db16f",
            "04b005f9d2934f51aff76f73fdcfca97"
          ]
        }
      },
      "source": [
        "from transformers import BertTokenizer\n",
        "\n",
        "tokenizer = BertTokenizer.from_pretrained('bert-base-uncased')"
      ],
      "execution_count": 0,
      "outputs": [
        {
          "output_type": "display_data",
          "data": {
            "text/html": [
              "<p style=\"color: red;\">\n",
              "The default version of TensorFlow in Colab will soon switch to TensorFlow 2.x.<br>\n",
              "We recommend you <a href=\"https://www.tensorflow.org/guide/migrate\" target=\"_blank\">upgrade</a> now \n",
              "or ensure your notebook will continue to use TensorFlow 1.x via the <code>%tensorflow_version 1.x</code> magic:\n",
              "<a href=\"https://colab.research.google.com/notebooks/tensorflow_version.ipynb\" target=\"_blank\">more info</a>.</p>\n"
            ],
            "text/plain": [
              "<IPython.core.display.HTML object>"
            ]
          },
          "metadata": {
            "tags": []
          }
        },
        {
          "output_type": "display_data",
          "data": {
            "application/vnd.jupyter.widget-view+json": {
              "model_id": "3d3ce94390994f97a5f88757b3ca98fc",
              "version_minor": 0,
              "version_major": 2
            },
            "text/plain": [
              "HBox(children=(IntProgress(value=0, description='Downloading', max=231508, style=ProgressStyle(description_wid…"
            ]
          },
          "metadata": {
            "tags": []
          }
        },
        {
          "output_type": "stream",
          "text": [
            "\n"
          ],
          "name": "stdout"
        }
      ]
    },
    {
      "cell_type": "code",
      "metadata": {
        "id": "AVcpZCbQoA2z",
        "colab_type": "code",
        "outputId": "01e307e3-9824-43d0-de8d-21ffd90365ff",
        "colab": {
          "base_uri": "https://localhost:8080/",
          "height": 34
        }
      },
      "source": [
        "len(tokenizer.vocab)"
      ],
      "execution_count": 0,
      "outputs": [
        {
          "output_type": "execute_result",
          "data": {
            "text/plain": [
              "30522"
            ]
          },
          "metadata": {
            "tags": []
          },
          "execution_count": 4
        }
      ]
    },
    {
      "cell_type": "code",
      "metadata": {
        "id": "ugWxuymMoUg4",
        "colab_type": "code",
        "outputId": "d332e641-7756-4017-9706-815ef29e1714",
        "colab": {
          "base_uri": "https://localhost:8080/",
          "height": 34
        }
      },
      "source": [
        "\n",
        "tokens = tokenizer.tokenize('Hello WORLD how ARE yoU?')\n",
        "\n",
        "print(tokens)"
      ],
      "execution_count": 0,
      "outputs": [
        {
          "output_type": "stream",
          "text": [
            "['hello', 'world', 'how', 'are', 'you', '?']\n"
          ],
          "name": "stdout"
        }
      ]
    },
    {
      "cell_type": "code",
      "metadata": {
        "id": "y90FzxfvoV4Q",
        "colab_type": "code",
        "outputId": "81660381-7fa7-4441-caf3-e6436abb5a4e",
        "colab": {
          "base_uri": "https://localhost:8080/",
          "height": 34
        }
      },
      "source": [
        "indexes = tokenizer.convert_tokens_to_ids(tokens)\n",
        "\n",
        "print(indexes)"
      ],
      "execution_count": 0,
      "outputs": [
        {
          "output_type": "stream",
          "text": [
            "[7592, 2088, 2129, 2024, 2017, 1029]\n"
          ],
          "name": "stdout"
        }
      ]
    },
    {
      "cell_type": "code",
      "metadata": {
        "id": "iR1gXQzuoX4Z",
        "colab_type": "code",
        "outputId": "58afe7ce-87a2-4f1e-863b-25aa3104a75e",
        "colab": {
          "base_uri": "https://localhost:8080/",
          "height": 34
        }
      },
      "source": [
        "init_token = tokenizer.cls_token\n",
        "eos_token = tokenizer.sep_token\n",
        "pad_token = tokenizer.pad_token\n",
        "unk_token = tokenizer.unk_token\n",
        "\n",
        "print(init_token, eos_token, pad_token, unk_token)"
      ],
      "execution_count": 0,
      "outputs": [
        {
          "output_type": "stream",
          "text": [
            "[CLS] [SEP] [PAD] [UNK]\n"
          ],
          "name": "stdout"
        }
      ]
    },
    {
      "cell_type": "code",
      "metadata": {
        "id": "GZMojrXYoZmJ",
        "colab_type": "code",
        "outputId": "e76fe46f-b8fd-4237-ca02-08683a2f65de",
        "colab": {
          "base_uri": "https://localhost:8080/",
          "height": 34
        }
      },
      "source": [
        "init_token_idx = tokenizer.convert_tokens_to_ids(init_token)\n",
        "eos_token_idx = tokenizer.convert_tokens_to_ids(eos_token)\n",
        "pad_token_idx = tokenizer.convert_tokens_to_ids(pad_token)\n",
        "unk_token_idx = tokenizer.convert_tokens_to_ids(unk_token)\n",
        "\n",
        "print(init_token_idx, eos_token_idx, pad_token_idx, unk_token_idx)"
      ],
      "execution_count": 0,
      "outputs": [
        {
          "output_type": "stream",
          "text": [
            "101 102 0 100\n"
          ],
          "name": "stdout"
        }
      ]
    },
    {
      "cell_type": "code",
      "metadata": {
        "id": "plZgXo3poa9j",
        "colab_type": "code",
        "outputId": "84309971-5b4c-452c-f469-2b67f0bf8e1d",
        "colab": {
          "base_uri": "https://localhost:8080/",
          "height": 34
        }
      },
      "source": [
        "init_token_idx = tokenizer.cls_token_id\n",
        "eos_token_idx = tokenizer.sep_token_id\n",
        "pad_token_idx = tokenizer.pad_token_id\n",
        "unk_token_idx = tokenizer.unk_token_id\n",
        "\n",
        "print(init_token_idx, eos_token_idx, pad_token_idx, unk_token_idx)"
      ],
      "execution_count": 0,
      "outputs": [
        {
          "output_type": "stream",
          "text": [
            "101 102 0 100\n"
          ],
          "name": "stdout"
        }
      ]
    },
    {
      "cell_type": "code",
      "metadata": {
        "id": "sN-j-aEFodGs",
        "colab_type": "code",
        "outputId": "ea6d0658-c159-450e-9214-6a802087f328",
        "colab": {
          "base_uri": "https://localhost:8080/",
          "height": 34
        }
      },
      "source": [
        "max_input_length = tokenizer.max_model_input_sizes['bert-base-uncased']\n",
        "\n",
        "print(max_input_length)"
      ],
      "execution_count": 0,
      "outputs": [
        {
          "output_type": "stream",
          "text": [
            "512\n"
          ],
          "name": "stdout"
        }
      ]
    },
    {
      "cell_type": "code",
      "metadata": {
        "id": "_Gqt1JJLofC8",
        "colab_type": "code",
        "colab": {}
      },
      "source": [
        "def tokenize_and_cut(sentence):\n",
        "    tokens = tokenizer.tokenize(sentence) \n",
        "    tokens = tokens[:max_input_length-2]\n",
        "    return tokens"
      ],
      "execution_count": 0,
      "outputs": []
    },
    {
      "cell_type": "code",
      "metadata": {
        "id": "pAR4pVJ7ogWR",
        "colab_type": "code",
        "colab": {}
      },
      "source": [
        "from torchtext import data\n",
        "\n",
        "TEXT = data.Field(batch_first = True,\n",
        "                  use_vocab = False,\n",
        "                  tokenize = tokenize_and_cut,\n",
        "                  preprocessing = tokenizer.convert_tokens_to_ids,\n",
        "                  init_token = init_token_idx,\n",
        "                  eos_token = eos_token_idx,\n",
        "                  pad_token = pad_token_idx,\n",
        "                  unk_token = unk_token_idx)\n",
        "\n",
        "LABEL = data.LabelField(dtype = torch.float)"
      ],
      "execution_count": 0,
      "outputs": []
    },
    {
      "cell_type": "code",
      "metadata": {
        "id": "hO06tLhNohzi",
        "colab_type": "code",
        "outputId": "afe037ec-f14e-49ac-845f-33c607d43b58",
        "colab": {
          "base_uri": "https://localhost:8080/",
          "height": 51
        }
      },
      "source": [
        "from torchtext import datasets\n",
        "\n",
        "train_data, test_data = datasets.IMDB.splits(TEXT, LABEL)\n",
        "\n",
        "train_data, valid_data = train_data.split(random_state = random.seed(SEED))"
      ],
      "execution_count": 0,
      "outputs": [
        {
          "output_type": "stream",
          "text": [
            "downloading aclImdb_v1.tar.gz\n"
          ],
          "name": "stdout"
        },
        {
          "output_type": "stream",
          "text": [
            "aclImdb_v1.tar.gz: 100%|██████████| 84.1M/84.1M [00:01<00:00, 67.9MB/s]\n"
          ],
          "name": "stderr"
        }
      ]
    },
    {
      "cell_type": "code",
      "metadata": {
        "id": "KllB-0ddokCf",
        "colab_type": "code",
        "outputId": "84a03e63-f40c-4851-9545-e810b3ce875c",
        "colab": {
          "base_uri": "https://localhost:8080/",
          "height": 68
        }
      },
      "source": [
        "print(f\"Number of training examples: {len(train_data)}\")\n",
        "print(f\"Number of validation examples: {len(valid_data)}\")\n",
        "print(f\"Number of testing examples: {len(test_data)}\")"
      ],
      "execution_count": 0,
      "outputs": [
        {
          "output_type": "stream",
          "text": [
            "Number of training examples: 17500\n",
            "Number of validation examples: 7500\n",
            "Number of testing examples: 25000\n"
          ],
          "name": "stdout"
        }
      ]
    },
    {
      "cell_type": "code",
      "metadata": {
        "id": "nNF9wxFrooiX",
        "colab_type": "code",
        "outputId": "fa9ef351-fbaa-462a-9b64-482e43d2d6b7",
        "colab": {
          "base_uri": "https://localhost:8080/",
          "height": 54
        }
      },
      "source": [
        "print(vars(train_data.examples[6]))"
      ],
      "execution_count": 0,
      "outputs": [
        {
          "output_type": "stream",
          "text": [
            "{'text': [2821, 6203, 2935, 1012, 2023, 3185, 1012, 1012, 1012, 2009, 2001, 9202, 1012, 1045, 2572, 1037, 4121, 5470, 1997, 5469, 5691, 1012, 1998, 2087, 1997, 1996, 2051, 1010, 5469, 5691, 2060, 2111, 2360, 2024, 2919, 1010, 1045, 2066, 1012, 1996, 3364, 2040, 2209, 1005, 12665, 24375, 1005, 2001, 6429, 1010, 1045, 2097, 2360, 2008, 1012, 2021, 2023, 5436, 2001, 9643, 1012, 2009, 2081, 2053, 3168, 999, 2009, 2018, 2126, 2205, 2172, 13638, 1010, 1998, 2019, 14203, 1006, 1998, 10073, 2075, 1007, 3348, 3496, 2012, 1996, 2927, 1012, 1045, 2079, 2903, 1996, 2472, 2001, 2667, 2000, 2022, 1005, 16880, 1005, 2030, 2054, 17048, 1010, 2021, 2009, 2074, 2234, 2041, 9643, 1012, 2000, 5587, 2000, 1996, 8632, 1997, 17037, 7999, 10231, 2027, 2170, 1037, 5436, 1010, 1996, 5889, 1006, 4661, 1005, 12665, 24375, 1005, 1007, 2057, 1005, 2128, 9643, 1010, 1998, 1045, 8725, 2061, 2210, 2055, 2068, 2008, 1045, 2574, 9471, 2040, 2001, 2040, 1012, 1999, 7091, 1010, 2023, 3185, 2081, 2033, 5305, 1012, 2065, 2017, 2064, 4468, 3666, 2023, 3185, 1999, 4312, 1010, 3531, 2079, 1012], 'label': 'neg'}\n"
          ],
          "name": "stdout"
        }
      ]
    },
    {
      "cell_type": "code",
      "metadata": {
        "id": "M3wB0HHkprWj",
        "colab_type": "code",
        "outputId": "64797ee0-8fa6-468c-fe66-c4894b5ea874",
        "colab": {
          "base_uri": "https://localhost:8080/",
          "height": 54
        }
      },
      "source": [
        "tokens = tokenizer.convert_ids_to_tokens(vars(train_data.examples[5])['text'])\n",
        "\n",
        "print(tokens)"
      ],
      "execution_count": 0,
      "outputs": [
        {
          "output_type": "stream",
          "text": [
            "['this', 'movie', 'started', 'slowly', ',', 'then', 'gained', 'momentum', 'towards', 'the', 'middle', '.', 'however', ',', 'the', 'fact', 'that', 'the', 'movie', 'ran', 'over', 'two', 'nights', 'broke', 'that', 'momentum', 'at', 'its', 'peak', '.', 'the', 'second', 'part', 'really', 'got', 'interesting', ',', 'but', 'then', 'gave', 'way', 'to', 'a', 'simply', 'pathetic', 'ending', '.', 'playing', 'football', 'in', 'the', 'yard', '?', 'really', ',', 'could', 'it', 'get', 'any', 'more', 'sap', '##py', 'and', 'maud', '##lin', '?', 'now', 'i', 'hear', 'plans', 'for', 'a', 'similar', 'movie', 'based', 'on', 'the', \"'\", '70s', '.', 'i', 'won', \"'\", 't', 'make', 'any', 'great', 'efforts', 'to', 'tune', 'into', 'that', 'one', 'if', 'it', \"'\", 's', 'anything', 'like', '\"', 'the', \"'\", '60s', '.', '\"']\n"
          ],
          "name": "stdout"
        }
      ]
    },
    {
      "cell_type": "code",
      "metadata": {
        "id": "yj8fHA_zptcg",
        "colab_type": "code",
        "colab": {}
      },
      "source": [
        "LABEL.build_vocab(train_data)"
      ],
      "execution_count": 0,
      "outputs": []
    },
    {
      "cell_type": "code",
      "metadata": {
        "id": "ON16S0TmpyPk",
        "colab_type": "code",
        "outputId": "9b44c0bd-f2c3-4f30-abda-96353ee7084c",
        "colab": {
          "base_uri": "https://localhost:8080/",
          "height": 34
        }
      },
      "source": [
        "print(LABEL.vocab.stoi)"
      ],
      "execution_count": 0,
      "outputs": [
        {
          "output_type": "stream",
          "text": [
            "defaultdict(<function _default_unk_index at 0x7f37bf561488>, {'neg': 0, 'pos': 1})\n"
          ],
          "name": "stdout"
        }
      ]
    },
    {
      "cell_type": "code",
      "metadata": {
        "id": "cbwvPf-7pzM9",
        "colab_type": "code",
        "colab": {}
      },
      "source": [
        "BATCH_SIZE = 128\n",
        "\n",
        "device = torch.device('cuda' if torch.cuda.is_available() else 'cpu')\n",
        "\n",
        "train_iterator, valid_iterator, test_iterator = data.BucketIterator.splits(\n",
        "    (train_data, valid_data, test_data), \n",
        "    batch_size = BATCH_SIZE, \n",
        "    device = device)"
      ],
      "execution_count": 0,
      "outputs": []
    },
    {
      "cell_type": "code",
      "metadata": {
        "id": "dTEUjz6xp1DR",
        "colab_type": "code",
        "outputId": "bb9d259d-d580-45c2-e938-80a70dffc4b0",
        "colab": {
          "base_uri": "https://localhost:8080/",
          "height": 115,
          "referenced_widgets": [
            "734a29b57de54c39ada90983bd6a25cd",
            "c71020f51d9c4cedab761e45374f6991",
            "b0d6a4f4f61c4777b2a98d071f5243e4",
            "a39fa4516c064317b3cf305e7f15deeb",
            "f09ac11e87554aacab68c8fff1417c57",
            "47e43363e3754494af0d64b8829be604",
            "0504bba6ad2740e88de8c3d7384eb10d",
            "bd01814f08304b2b97a981cea130c03f",
            "d3982b7e88ea45c59a7acf15efb029a7",
            "6b8e5043c3a34e4c8256574648347368",
            "0913b6231ec4445b85fab178453c59fe",
            "f7b72719185645a88c1194737a63c838",
            "f0f7ca7ee2434ac6a7dc05da3309bed4",
            "b80cf34c77f74e4da1933b7d0ab154ef",
            "ca6d3936e02a401486eff95c7917fbcd",
            "1938daa8bb5d4020b22e8e68c5253f2f"
          ]
        }
      },
      "source": [
        "from transformers import BertTokenizer, BertModel\n",
        "\n",
        "bert = BertModel.from_pretrained('bert-base-uncased')"
      ],
      "execution_count": 0,
      "outputs": [
        {
          "output_type": "display_data",
          "data": {
            "application/vnd.jupyter.widget-view+json": {
              "model_id": "734a29b57de54c39ada90983bd6a25cd",
              "version_minor": 0,
              "version_major": 2
            },
            "text/plain": [
              "HBox(children=(IntProgress(value=0, description='Downloading', max=361, style=ProgressStyle(description_width=…"
            ]
          },
          "metadata": {
            "tags": []
          }
        },
        {
          "output_type": "stream",
          "text": [
            "\n"
          ],
          "name": "stdout"
        },
        {
          "output_type": "display_data",
          "data": {
            "application/vnd.jupyter.widget-view+json": {
              "model_id": "d3982b7e88ea45c59a7acf15efb029a7",
              "version_minor": 0,
              "version_major": 2
            },
            "text/plain": [
              "HBox(children=(IntProgress(value=0, description='Downloading', max=440473133, style=ProgressStyle(description_…"
            ]
          },
          "metadata": {
            "tags": []
          }
        },
        {
          "output_type": "stream",
          "text": [
            "\n"
          ],
          "name": "stdout"
        }
      ]
    },
    {
      "cell_type": "code",
      "metadata": {
        "id": "YFBauv_vp5gy",
        "colab_type": "code",
        "colab": {}
      },
      "source": [
        "import torch.nn as nn\n",
        "\n",
        "class BERTGRUSentiment(nn.Module):\n",
        "    def __init__(self,\n",
        "                 bert,\n",
        "                 hidden_dim,\n",
        "                 output_dim,\n",
        "                 n_layers,\n",
        "                 bidirectional,\n",
        "                 dropout):       \n",
        "        super().__init__()        \n",
        "        self.bert = bert       \n",
        "        embedding_dim = bert.config.to_dict()['hidden_size']       \n",
        "        self.rnn = nn.GRU(embedding_dim,\n",
        "                          hidden_dim,\n",
        "                          num_layers = n_layers,\n",
        "                          bidirectional = bidirectional,\n",
        "                          batch_first = True,\n",
        "                          dropout = 0 if n_layers < 2 else dropout)        \n",
        "        self.out = nn.Linear(hidden_dim * 2 if bidirectional else hidden_dim, output_dim)        \n",
        "        self.dropout = nn.Dropout(dropout)\n",
        "        \n",
        "    def forward(self, text):      \n",
        "        #text = [batch size, sent len]       \n",
        "        with torch.no_grad():\n",
        "            embedded = self.bert(text)[0]         \n",
        "        #embedded = [batch size, sent len, emb dim] \n",
        "        _, hidden = self.rnn(embedded)\n",
        "        #hidden = [n layers * n directions, batch size, emb dim]\n",
        "        if self.rnn.bidirectional:\n",
        "            hidden = self.dropout(torch.cat((hidden[-2,:,:], hidden[-1,:,:]), dim = 1))\n",
        "        else:\n",
        "            hidden = self.dropout(hidden[-1,:,:])  \n",
        "        #hidden = [batch size, hid dim]\n",
        "        output = self.out(hidden)\n",
        "        #output = [batch size, out dim]\n",
        "        return output"
      ],
      "execution_count": 0,
      "outputs": []
    },
    {
      "cell_type": "code",
      "metadata": {
        "id": "wr3hMwcntNrj",
        "colab_type": "code",
        "colab": {}
      },
      "source": [
        "HIDDEN_DIM = 256\n",
        "OUTPUT_DIM = 1\n",
        "N_LAYERS = 2\n",
        "BIDIRECTIONAL = True\n",
        "DROPOUT = 0.25\n",
        "\n",
        "model = BERTGRUSentiment(bert,\n",
        "                         HIDDEN_DIM,\n",
        "                         OUTPUT_DIM,\n",
        "                         N_LAYERS,\n",
        "                         BIDIRECTIONAL,\n",
        "                         DROPOUT)"
      ],
      "execution_count": 0,
      "outputs": []
    },
    {
      "cell_type": "code",
      "metadata": {
        "id": "5UbTGNyWtP4P",
        "colab_type": "code",
        "outputId": "bd8059f3-29a8-47fa-91ee-54b97981f123",
        "colab": {
          "base_uri": "https://localhost:8080/",
          "height": 34
        }
      },
      "source": [
        "def count_parameters(model):\n",
        "    return sum(p.numel() for p in model.parameters() if p.requires_grad)\n",
        "\n",
        "print(f'The model has {count_parameters(model):,} trainable parameters')"
      ],
      "execution_count": 0,
      "outputs": [
        {
          "output_type": "stream",
          "text": [
            "The model has 112,241,409 trainable parameters\n"
          ],
          "name": "stdout"
        }
      ]
    },
    {
      "cell_type": "code",
      "metadata": {
        "id": "vOmrIObatR2H",
        "colab_type": "code",
        "colab": {}
      },
      "source": [
        "for name, param in model.named_parameters():                \n",
        "    if name.startswith('bert'):\n",
        "        param.requires_grad = False"
      ],
      "execution_count": 0,
      "outputs": []
    },
    {
      "cell_type": "code",
      "metadata": {
        "id": "6HY69KT1tTlN",
        "colab_type": "code",
        "outputId": "6ea96363-943c-4755-ce12-e22a8f95cdbc",
        "colab": {
          "base_uri": "https://localhost:8080/",
          "height": 34
        }
      },
      "source": [
        "def count_parameters(model):\n",
        "    return sum(p.numel() for p in model.parameters() if p.requires_grad)\n",
        "\n",
        "print(f'The model has {count_parameters(model):,} trainable parameters')"
      ],
      "execution_count": 0,
      "outputs": [
        {
          "output_type": "stream",
          "text": [
            "The model has 2,759,169 trainable parameters\n"
          ],
          "name": "stdout"
        }
      ]
    },
    {
      "cell_type": "code",
      "metadata": {
        "id": "2wTp9mZXtVgc",
        "colab_type": "code",
        "outputId": "b10125ca-b518-44b1-ef9d-fdfbd2eb2b96",
        "colab": {
          "base_uri": "https://localhost:8080/",
          "height": 323
        }
      },
      "source": [
        "for name, param in model.named_parameters():                \n",
        "    if param.requires_grad:\n",
        "        print(name)"
      ],
      "execution_count": 0,
      "outputs": [
        {
          "output_type": "stream",
          "text": [
            "rnn.weight_ih_l0\n",
            "rnn.weight_hh_l0\n",
            "rnn.bias_ih_l0\n",
            "rnn.bias_hh_l0\n",
            "rnn.weight_ih_l0_reverse\n",
            "rnn.weight_hh_l0_reverse\n",
            "rnn.bias_ih_l0_reverse\n",
            "rnn.bias_hh_l0_reverse\n",
            "rnn.weight_ih_l1\n",
            "rnn.weight_hh_l1\n",
            "rnn.bias_ih_l1\n",
            "rnn.bias_hh_l1\n",
            "rnn.weight_ih_l1_reverse\n",
            "rnn.weight_hh_l1_reverse\n",
            "rnn.bias_ih_l1_reverse\n",
            "rnn.bias_hh_l1_reverse\n",
            "out.weight\n",
            "out.bias\n"
          ],
          "name": "stdout"
        }
      ]
    },
    {
      "cell_type": "code",
      "metadata": {
        "id": "AO5-P3CvtXDq",
        "colab_type": "code",
        "colab": {}
      },
      "source": [
        "import torch.optim as optim\n",
        "\n",
        "optimizer = optim.Adam(model.parameters())"
      ],
      "execution_count": 0,
      "outputs": []
    },
    {
      "cell_type": "code",
      "metadata": {
        "id": "Z2hOqeYftcHt",
        "colab_type": "code",
        "colab": {}
      },
      "source": [
        "criterion = nn.BCEWithLogitsLoss()"
      ],
      "execution_count": 0,
      "outputs": []
    },
    {
      "cell_type": "code",
      "metadata": {
        "id": "w4z8Gmgmtdsc",
        "colab_type": "code",
        "colab": {}
      },
      "source": [
        "model = model.to(device)\n",
        "criterion = criterion.to(device)"
      ],
      "execution_count": 0,
      "outputs": []
    },
    {
      "cell_type": "code",
      "metadata": {
        "id": "nTI6kccjte0W",
        "colab_type": "code",
        "colab": {}
      },
      "source": [
        "def binary_accuracy(preds, y):\n",
        "    \"\"\"\n",
        "    Returns accuracy per batch, i.e. if you get 8/10 right, this returns 0.8, NOT 8\n",
        "    \"\"\"\n",
        "\n",
        "    #round predictions to the closest integer\n",
        "    rounded_preds = torch.round(torch.sigmoid(preds))\n",
        "    correct = (rounded_preds == y).float() #convert into float for division \n",
        "    acc = correct.sum() / len(correct)\n",
        "    return acc"
      ],
      "execution_count": 0,
      "outputs": []
    },
    {
      "cell_type": "code",
      "metadata": {
        "id": "SzVl9g7mtggN",
        "colab_type": "code",
        "colab": {}
      },
      "source": [
        "def train(model, iterator, optimizer, criterion):    \n",
        "    epoch_loss = 0\n",
        "    epoch_acc = 0\n",
        "    \n",
        "    model.train()\n",
        "    \n",
        "    for batch in iterator:\n",
        "        optimizer.zero_grad()\n",
        "        predictions = model(batch.text).squeeze(1)\n",
        "        loss = criterion(predictions, batch.label)\n",
        "        acc = binary_accuracy(predictions, batch.label)\n",
        "        loss.backward()\n",
        "        optimizer.step()\n",
        "        epoch_loss += loss.item()\n",
        "        epoch_acc += acc.item()\n",
        "    return epoch_loss / len(iterator), epoch_acc / len(iterator)"
      ],
      "execution_count": 0,
      "outputs": []
    },
    {
      "cell_type": "code",
      "metadata": {
        "id": "BqsJbBs7tmav",
        "colab_type": "code",
        "colab": {}
      },
      "source": [
        "def evaluate(model, iterator, criterion):\n",
        "    epoch_loss = 0\n",
        "    epoch_acc = 0\n",
        "    model.eval()\n",
        "    with torch.no_grad():\n",
        "        for batch in iterator:\n",
        "            predictions = model(batch.text).squeeze(1)\n",
        "            loss = criterion(predictions, batch.label)            \n",
        "            acc = binary_accuracy(predictions, batch.label)\n",
        "            epoch_loss += loss.item()\n",
        "            epoch_acc += acc.item()       \n",
        "    return epoch_loss / len(iterator), epoch_acc / len(iterator)"
      ],
      "execution_count": 0,
      "outputs": []
    },
    {
      "cell_type": "code",
      "metadata": {
        "id": "UCio-qTUtxuU",
        "colab_type": "code",
        "colab": {}
      },
      "source": [
        "import time\n",
        "\n",
        "def epoch_time(start_time, end_time):\n",
        "    elapsed_time = end_time - start_time\n",
        "    elapsed_mins = int(elapsed_time / 60)\n",
        "    elapsed_secs = int(elapsed_time - (elapsed_mins * 60))\n",
        "    return elapsed_mins, elapsed_secs"
      ],
      "execution_count": 0,
      "outputs": []
    },
    {
      "cell_type": "code",
      "metadata": {
        "id": "qHJA1g0otzk9",
        "colab_type": "code",
        "outputId": "6c5d135f-928f-49b7-9a2e-c38460ab5c26",
        "colab": {
          "base_uri": "https://localhost:8080/",
          "height": 272
        }
      },
      "source": [
        "N_EPOCHS = 5\n",
        "best_valid_loss = float('inf')\n",
        "\n",
        "for epoch in range(N_EPOCHS):\n",
        "    \n",
        "    start_time = time.time()\n",
        "    \n",
        "    train_loss, train_acc = train(model, train_iterator, optimizer, criterion)\n",
        "    valid_loss, valid_acc = evaluate(model, valid_iterator, criterion)\n",
        "        \n",
        "    end_time = time.time()\n",
        "        \n",
        "    epoch_mins, epoch_secs = epoch_time(start_time, end_time)\n",
        "        \n",
        "    if valid_loss < best_valid_loss:\n",
        "        best_valid_loss = valid_loss\n",
        "        torch.save(model.state_dict(), 'tut6-model.pt')\n",
        "    \n",
        "    print(f'Epoch: {epoch+1:02} | Epoch Time: {epoch_mins}m {epoch_secs}s')\n",
        "    print(f'\\tTrain Loss: {train_loss:.3f} | Train Acc: {train_acc*100:.2f}%')\n",
        "    print(f'\\t Val. Loss: {valid_loss:.3f} |  Val. Acc: {valid_acc*100:.2f}%')"
      ],
      "execution_count": 0,
      "outputs": [
        {
          "output_type": "stream",
          "text": [
            "Epoch: 01 | Epoch Time: 6m 46s\n",
            "\tTrain Loss: 0.485 | Train Acc: 75.80%\n",
            "\t Val. Loss: 0.303 |  Val. Acc: 87.60%\n",
            "Epoch: 02 | Epoch Time: 6m 46s\n",
            "\tTrain Loss: 0.273 | Train Acc: 88.93%\n",
            "\t Val. Loss: 0.244 |  Val. Acc: 89.79%\n",
            "Epoch: 03 | Epoch Time: 6m 46s\n",
            "\tTrain Loss: 0.234 | Train Acc: 90.61%\n",
            "\t Val. Loss: 0.212 |  Val. Acc: 91.50%\n",
            "Epoch: 04 | Epoch Time: 6m 46s\n",
            "\tTrain Loss: 0.203 | Train Acc: 92.07%\n",
            "\t Val. Loss: 0.225 |  Val. Acc: 90.99%\n",
            "Epoch: 05 | Epoch Time: 6m 46s\n",
            "\tTrain Loss: 0.176 | Train Acc: 93.41%\n",
            "\t Val. Loss: 0.274 |  Val. Acc: 89.15%\n"
          ],
          "name": "stdout"
        }
      ]
    },
    {
      "cell_type": "code",
      "metadata": {
        "id": "k6omwgB4t4ae",
        "colab_type": "code",
        "outputId": "3b1202e9-ecb5-41bb-fd4d-b57be1e3f1ab",
        "colab": {
          "base_uri": "https://localhost:8080/",
          "height": 34
        }
      },
      "source": [
        "model.load_state_dict(torch.load('tut6-model.pt'))\n",
        "\n",
        "test_loss, test_acc = evaluate(model, test_iterator, criterion)\n",
        "\n",
        "print(f'Test Loss: {test_loss:.3f} | Test Acc: {test_acc*100:.2f}%')"
      ],
      "execution_count": 0,
      "outputs": [
        {
          "output_type": "stream",
          "text": [
            "Test Loss: 0.203 | Test Acc: 91.89%\n"
          ],
          "name": "stdout"
        }
      ]
    },
    {
      "cell_type": "code",
      "metadata": {
        "id": "WXTph2_QuKV5",
        "colab_type": "code",
        "colab": {}
      },
      "source": [
        "def predict_sentiment(model, tokenizer, sentence):\n",
        "    model.eval()\n",
        "    tokens = tokenizer.tokenize(sentence)\n",
        "    tokens = tokens[:max_input_length-2]\n",
        "    indexed = [init_token_idx] + tokenizer.convert_tokens_to_ids(tokens) + [eos_token_idx]\n",
        "    tensor = torch.LongTensor(indexed).to(device)\n",
        "    tensor = tensor.unsqueeze(0)\n",
        "    prediction = torch.sigmoid(model(tensor))\n",
        "    return prediction.item()"
      ],
      "execution_count": 0,
      "outputs": []
    },
    {
      "cell_type": "code",
      "metadata": {
        "id": "E9z95ZdBuLxp",
        "colab_type": "code",
        "outputId": "4607e11e-efac-4af5-e682-cfcb1dc3a62f",
        "colab": {
          "base_uri": "https://localhost:8080/",
          "height": 34
        }
      },
      "source": [
        "predict_sentiment(model, tokenizer, \"This film is terrible\")"
      ],
      "execution_count": 0,
      "outputs": [
        {
          "output_type": "execute_result",
          "data": {
            "text/plain": [
              "0.01449573040008545"
            ]
          },
          "metadata": {
            "tags": []
          },
          "execution_count": 37
        }
      ]
    },
    {
      "cell_type": "code",
      "metadata": {
        "id": "73L3Tg0iuNL1",
        "colab_type": "code",
        "outputId": "b3bdcd01-7d68-4a80-8fb0-86c167227143",
        "colab": {
          "base_uri": "https://localhost:8080/",
          "height": 34
        }
      },
      "source": [
        "predict_sentiment(model, tokenizer, \"This film is great\")"
      ],
      "execution_count": 0,
      "outputs": [
        {
          "output_type": "execute_result",
          "data": {
            "text/plain": [
              "0.9313568472862244"
            ]
          },
          "metadata": {
            "tags": []
          },
          "execution_count": 38
        }
      ]
    },
    {
      "cell_type": "code",
      "metadata": {
        "id": "rc2JU-BW7tdD",
        "colab_type": "code",
        "outputId": "651e3297-0eef-4024-d4e6-ecc27a678ced",
        "colab": {
          "base_uri": "https://localhost:8080/",
          "height": 34
        }
      },
      "source": [
        "predict_sentiment(model, tokenizer, \"As far as China and the United States are concerned, a tenuous truce seems to have been declared.\")"
      ],
      "execution_count": 0,
      "outputs": [
        {
          "output_type": "execute_result",
          "data": {
            "text/plain": [
              "0.5790801048278809"
            ]
          },
          "metadata": {
            "tags": []
          },
          "execution_count": 39
        }
      ]
    },
    {
      "cell_type": "code",
      "metadata": {
        "id": "RjOld1yS1jat",
        "colab_type": "code",
        "outputId": "86bd6b6a-bf6f-4fad-aeca-207d58c472a9",
        "colab": {
          "base_uri": "https://localhost:8080/",
          "height": 51
        }
      },
      "source": [
        "article = 'As far as China and the United States are concerned, a tenuous truce seems to have been declared. Phase 1, signed last week, eases some Trump administration sanctions on China in return for Beijing’s vow to step up its purchases of American farm products and other goods. The ongoing trade challenges lie not only with China. In an election year, the Europeans, with their trade surpluses in autos and luxury goods, could also be a tempting target for President Trump. Swing voters in the Rust Belt helped put Mr. Trump in the White House. Those states are reeling from a half-century of traumatic structural change: domestic deindustrialization compounded by the way global trade has shifted manufacturing jobs to places like China and Mexico from places like the Midwest. Furthermore, when officials like Robert Lighthizer, the United States trade representative, declare that the system must be changed because it was not designed to deal with the ascent of China, they have a point. China’s scale and pace of development, its no-holds-barred approach to competition and the authoritarian regime that backs it fundamentally put in question the liberal model of globalism and win-win trade relations. The Europeans increasingly look like the last man standing when it comes to free trade. The United States, with its long history of protectionism, was always a somewhat reluctant recruit to the camp of free trade. In the 21st century, with the emergence of China and India, the United States has company on the global stage. China, under its current rulers, is a resurgent and assertive nation-state that poses a fundamental challenge to the power position America built in Asia during the Cold War. What is at stake is more than trade. It is geopolitics. China is ruled by a Communist Party that pays lip service to the cult of Mao. America’s positions in Korea, Japan, Taiwan and the South China Sea are legacies of that era. But in the Cold War with the Soviet Union there was never the depth of economic, technological and cultural interconnection that the West has forged with China since the 1980s. As an alternative historical analogy, some are tempted to invoke the rise of Imperial Germany before 1914 with which the British Empire entertained a similar mixture of rivalry and cooperation. But that comparison belittles the significance of China’s re-emergence. Mr. Trump’s actions and policies put the onus more firmly on the Europeans and the Chinese to find a way of shaping the new environmental politics of trade — if necessary, without the United States. '\n",
        "sentences = article.split('.')\n",
        "score = 0\n",
        "sentence_num = len(sentences)\n",
        "for sentence in sentences:\n",
        "  score += predict_sentiment(model, tokenizer, sentence)\n",
        "final_score = score / sentence_num\n",
        "print(\"文章最终得分: \" + str(final_score))\n",
        "\n",
        "if final_score > 0.5:\n",
        "  print('positive')\n",
        "else:\n",
        "  print('negtive')"
      ],
      "execution_count": 0,
      "outputs": [
        {
          "output_type": "stream",
          "text": [
            "文章最终得分: 0.6552429030770841\n",
            "positive\n"
          ],
          "name": "stdout"
        }
      ]
    },
    {
      "cell_type": "code",
      "metadata": {
        "id": "_Yfx7st79qS7",
        "colab_type": "code",
        "colab": {}
      },
      "source": [
        "import xlwt,xlrd\n",
        "from tqdm import tqdm\n",
        "# from xlutils.copy import copy\n",
        "\n",
        "rd = xlrd.open_workbook('/content/drive/My Drive/dataset/Final_dataset.xlsx')\n",
        "table = rd.sheets()[0]\n",
        "ncols = table.ncols\n",
        "Contents = table.col(2, start_rowx=1, end_rowx=None)\n",
        "\n",
        "scores = []\n",
        "\n",
        "for i in tqdm(Contents):\n",
        "  sentences = i.value.split('.')\n",
        "  score = 0\n",
        "  for sentence in sentences:\n",
        "    score += predict_sentiment(model, tokenizer, sentence)\n",
        "  final_score = score / len(sentences)\n",
        "  scores.append(final_score)"
      ],
      "execution_count": 0,
      "outputs": []
    },
    {
      "cell_type": "code",
      "metadata": {
        "id": "jHqIdbhdKXj-",
        "colab_type": "code",
        "outputId": "6833de78-4e68-4bf0-b387-519729d64fc0",
        "colab": {
          "base_uri": "https://localhost:8080/",
          "height": 1000
        }
      },
      "source": [
        "scores"
      ],
      "execution_count": 0,
      "outputs": [
        {
          "output_type": "execute_result",
          "data": {
            "text/plain": [
              "[0.6155946105718613,\n",
              " 0.5503573179244995,\n",
              " 0.6480177417397499,\n",
              " 0.6324603408575058,\n",
              " 0.6287717938423156,\n",
              " 0.4910487234592438,\n",
              " 0.6244489848613739,\n",
              " 0.5390445291996002,\n",
              " 0.5543693453073502,\n",
              " 0.5948373794555664,\n",
              " 0.521098181605339,\n",
              " 0.5716308504343033,\n",
              " 0.6993886431058248,\n",
              " 0.6731832797328631,\n",
              " 0.6718828777472178,\n",
              " 0.5994740469115121,\n",
              " 0.7019552886486053,\n",
              " 0.6199848055839539,\n",
              " 0.6567504370496386,\n",
              " 0.6199848055839539,\n",
              " 0.577016847829024,\n",
              " 0.5694843182961146,\n",
              " 0.6314482277347928,\n",
              " 0.6097525060176849,\n",
              " 0.6199848055839539,\n",
              " 0.6961329480012258,\n",
              " 0.514267647266388,\n",
              " 0.6134646673997243,\n",
              " 0.5199295461177826,\n",
              " 0.6780834243847773,\n",
              " 0.6240794020039695,\n",
              " 0.5256382301449776,\n",
              " 0.7083589434623718,\n",
              " 0.6548911452293396,\n",
              " 0.6735131502151489,\n",
              " 0.6670482556025187,\n",
              " 0.6786004304885864,\n",
              " 0.563682809472084,\n",
              " 0.6143944940783761,\n",
              " 0.5956969559192657,\n",
              " 0.6717874705791473,\n",
              " 0.6506858170032501,\n",
              " 0.5649502310487959,\n",
              " 0.608856980737887,\n",
              " 0.5766851007938385,\n",
              " 0.7505759994188944,\n",
              " 0.7375001162290573,\n",
              " 0.6404182287779722,\n",
              " 0.5586213214056832,\n",
              " 0.5883816579977671,\n",
              " 0.6182149350643158,\n",
              " 0.6478744954504865,\n",
              " 0.5946081876754761,\n",
              " 0.6552429030770841,\n",
              " 0.585806155204773,\n",
              " 0.5058843400329351,\n",
              " 0.6293347477912903,\n",
              " 0.4965103417634964,\n",
              " 0.574255493554202,\n",
              " 0.6022251805951518,\n",
              " 0.5838376194238662,\n",
              " 0.6717355591910226,\n",
              " 0.5674413084983826,\n",
              " 0.6522988762174334,\n",
              " 0.5453340339660645,\n",
              " 0.5852063596248627,\n",
              " 0.5487467408180237,\n",
              " 0.6023230652014414,\n",
              " 0.5741596619288126,\n",
              " 0.6974798838297526,\n",
              " 0.544573711497443,\n",
              " 0.6823787008013044,\n",
              " 0.6168986586007205,\n",
              " 0.5970101118087768,\n",
              " 0.5839671151978629,\n",
              " 0.6877068016264174,\n",
              " 0.6559572517871857,\n",
              " 0.5004780424965752,\n",
              " 0.5608617812395096,\n",
              " 0.5650612347655826,\n",
              " 0.5724943081537882,\n",
              " 0.5323756237824758,\n",
              " 0.5512913525104522,\n",
              " 0.5782761665490957,\n",
              " 0.630140816171964,\n",
              " 0.6526520848274231,\n",
              " 0.5631636712286208,\n",
              " 0.5777216926217079,\n",
              " 0.5149260967969894,\n",
              " 0.6072988486376362,\n",
              " 0.44664179533720016,\n",
              " 0.6526520848274231,\n",
              " 0.5631636712286208,\n",
              " 0.5777216926217079,\n",
              " 0.5149260967969894,\n",
              " 0.6072988486376362,\n",
              " 0.44664179533720016,\n",
              " 0.6526520848274231,\n",
              " 0.5631636712286208,\n",
              " 0.5777216926217079,\n",
              " 0.5149260967969894,\n",
              " 0.6072988486376362,\n",
              " 0.44664179533720016,\n",
              " 0.6152625679969788,\n",
              " 0.45860541860262555,\n",
              " 0.5493570576454031,\n",
              " 0.5267931305699878,\n",
              " 0.5863115588823954,\n",
              " 0.5391562249925401,\n",
              " 0.5016051133473715,\n",
              " 0.6570999920368195,\n",
              " 0.5391562249925401,\n",
              " 0.5016051133473715,\n",
              " 0.6570999920368195,\n",
              " 0.6605439086755117,\n",
              " 0.5263270636399587,\n",
              " 0.6637110677030351,\n",
              " 0.7064751833677292,\n",
              " 0.6665899554888407,\n",
              " 0.7226641476154327,\n",
              " 0.6415496468544006,\n",
              " 0.6883444081653248,\n",
              " 0.6938762835093907,\n",
              " 0.5325980354100466,\n",
              " 0.73855260014534,\n",
              " 0.59922194480896,\n",
              " 0.6047230751386711,\n",
              " 0.6180562227964401,\n",
              " 0.5875217735767364,\n",
              " 0.6098418037096659,\n",
              " 0.6748028695583344,\n",
              " 0.5939746931195259,\n",
              " 0.678207790851593,\n",
              " 0.6443208217620849,\n",
              " 0.6704437633355459,\n",
              " 0.7111381888389587,\n",
              " 0.6837510665257772,\n",
              " 0.5166051909327507,\n",
              " 0.6097356826066971,\n",
              " 0.6612895826498667,\n",
              " 0.6199848055839539,\n",
              " 0.5841677004382724,\n",
              " 0.6487954788737826,\n",
              " 0.5618291094022638,\n",
              " 0.6674645182333494,\n",
              " 0.5585605502128601,\n",
              " 0.6331216077009837,\n",
              " 0.5771645364307222,\n",
              " 0.6668028320584979,\n",
              " 0.7026458024978638,\n",
              " 0.629355388879776,\n",
              " 0.7352516800165176,\n",
              " 0.7315775950749716,\n",
              " 0.673088464472029,\n",
              " 0.6645553469657898,\n",
              " 0.5887385606765747,\n",
              " 0.6075881818930308,\n",
              " 0.5774906575679779,\n",
              " 0.6842550754547119,\n",
              " 0.6407415673136712,\n",
              " 0.6199848055839539,\n",
              " 0.5767658534257308,\n",
              " 0.6666369438171387,\n",
              " 0.610439678033193,\n",
              " 0.5873807165771723,\n",
              " 0.6662210468202829,\n",
              " 0.661735387146473,\n",
              " 0.6744331233203411,\n",
              " 0.6025217771530151,\n",
              " 0.4608302330598235,\n",
              " 0.6199848055839539,\n",
              " 0.5494192626792938,\n",
              " 0.5414732754230499,\n",
              " 0.6539550143338385,\n",
              " 0.5699559173413685,\n",
              " 0.6199848055839539,\n",
              " 0.6988508462905884,\n",
              " 0.6350937393995432,\n",
              " 0.5601802858022543,\n",
              " 0.6199848055839539,\n",
              " 0.618172341868991,\n",
              " 0.6056728133788476,\n",
              " 0.5433487007694859,\n",
              " 0.6199848055839539,\n",
              " 0.6636278766852158,\n",
              " 0.6199848055839539,\n",
              " 0.6945085376501083,\n",
              " 0.6828333735466003,\n",
              " 0.6363722171102252,\n",
              " 0.6541734635829926,\n",
              " 0.6423365955843645,\n",
              " 0.642693301041921,\n",
              " 0.6831130981445312,\n",
              " 0.6648401518662771,\n",
              " 0.610764260093371,\n",
              " 0.6091044614923761,\n",
              " 0.6824689039162227,\n",
              " 0.6363317877054214,\n",
              " 0.6305705044004652,\n",
              " 0.5732944905757904,\n",
              " 0.600419412056605,\n",
              " 0.6925576339987382,\n",
              " 0.6656347910563151,\n",
              " 0.6645704470574856,\n",
              " 0.5754612684249878,\n",
              " 0.6113235612710317,\n",
              " 0.5875930786132812,\n",
              " 0.6750656485557556,\n",
              " 0.6829476244747639,\n",
              " 0.6249027365240557,\n",
              " 0.643298884232839,\n",
              " 0.6783994336922964,\n",
              " 0.5825419723987579,\n",
              " 0.6526667140884164,\n",
              " 0.7460462749004364,\n",
              " 0.6366288612286249,\n",
              " 0.7024058699607849,\n",
              " 0.5300224969784418,\n",
              " 0.6216086695591608,\n",
              " 0.46876991391181944,\n",
              " 0.6917795538902283,\n",
              " 0.5044238120317459,\n",
              " 0.468910214304924,\n",
              " 0.6340032418568929,\n",
              " 0.4869845012823741,\n",
              " 0.6028302997350693,\n",
              " 0.5896302759647369,\n",
              " 0.5867265867335456,\n",
              " 0.6237525778052248,\n",
              " 0.5105439759790897,\n",
              " 0.5850347430520767,\n",
              " 0.5972031491287684,\n",
              " 0.60774304451687,\n",
              " 0.5888290468137711,\n",
              " 0.6409717999836978,\n",
              " 0.6290816429257393,\n",
              " 0.5838681357247489,\n",
              " 0.561247401222398,\n",
              " 0.6776929001013438,\n",
              " 0.5942000323726285,\n",
              " 0.6060986887625973,\n",
              " 0.6113739329757113,\n",
              " 0.5525480013310424,\n",
              " 0.5711303025484085,\n",
              " 0.5414340366919835,\n",
              " 0.5485731561978658,\n",
              " 0.5574739277362823,\n",
              " 0.6311261544624964,\n",
              " 0.5942845344543457,\n",
              " 0.5820844908555348,\n",
              " 0.5607023887774524,\n",
              " 0.5565867057213416,\n",
              " 0.6050406787544489,\n",
              " 0.5951359106434716,\n",
              " 0.5774906128644943,\n",
              " 0.6041783028178744,\n",
              " 0.5996732976701524,\n",
              " 0.6097200314203898,\n",
              " 0.6060188445780013,\n",
              " 0.5555484394232432,\n",
              " 0.588746191159393,\n",
              " 0.6828829447428385,\n",
              " 0.4860498031665539,\n",
              " 0.6079803481698036,\n",
              " 0.5501242876052856,\n",
              " 0.5470025649275443,\n",
              " 0.5354180561919366,\n",
              " 0.5954860043525696,\n",
              " 0.5402901779587675,\n",
              " 0.5713798482577468,\n",
              " 0.5620283845223879,\n",
              " 0.49120600521564484,\n",
              " 0.5545420598871303,\n",
              " 0.6235817074775696,\n",
              " 0.5982167311012745,\n",
              " 0.49120600521564484,\n",
              " 0.5545420598871303,\n",
              " 0.6235817074775696,\n",
              " 0.5982167311012745,\n",
              " 0.49120600521564484,\n",
              " 0.5545420598871303,\n",
              " 0.6235817074775696,\n",
              " 0.5982167311012745,\n",
              " 0.5550718605518341,\n",
              " 0.7053723186254501,\n",
              " 0.5935850441455841,\n",
              " 0.7244152029355367,\n",
              " 0.552058219909668,\n",
              " 0.5303317159414291,\n",
              " 0.5244391858577728,\n",
              " 0.5974215716123581,\n",
              " 0.539083809537046,\n",
              " 0.5551192781754902,\n",
              " 0.6260197311639786,\n",
              " 0.5532351666026645,\n",
              " 0.5879534184932709,\n",
              " 0.6109414160251617,\n",
              " 0.5872361544105742,\n",
              " 0.5280253407747849,\n",
              " 0.5429098308086395,\n",
              " 0.5442935175129345,\n",
              " 0.5872361544105742,\n",
              " 0.5280253407747849,\n",
              " 0.5429098308086395,\n",
              " 0.5442935175129345,\n",
              " 0.4258171049878001,\n",
              " 0.48875433802604673,\n",
              " 0.617891530195872,\n",
              " 0.6061448454856873,\n",
              " 0.5297685861587524,\n",
              " 0.6068865228921939,\n",
              " 0.6263318359851837,\n",
              " 0.5409088432788849,\n",
              " 0.6047166287899017,\n",
              " 0.6021001040935516,\n",
              " 0.6690214474995931,\n",
              " 0.6190996798021453,\n",
              " 0.5891366129120191,\n",
              " 0.6090854480862617,\n",
              " 0.6116952167979132,\n",
              " 0.6239700270326514,\n",
              " 0.5340957778692246,\n",
              " 0.6842076480388641,\n",
              " 0.6175558202796512,\n",
              " 0.5325460899802088,\n",
              " 0.6139096932278739,\n",
              " 0.6123490940641474,\n",
              " 0.6018325686454773,\n",
              " 0.5581555860462012,\n",
              " 0.5537664830684662,\n",
              " 0.6159816831350327,\n",
              " 0.5621900024513403,\n",
              " 0.5642953167359034,\n",
              " 0.5493984054511701,\n",
              " 0.5526721720342282,\n",
              " 0.5776140633970499,\n",
              " 0.6271453137333328,\n",
              " 0.603582888841629,\n",
              " 0.6379785434953098,\n",
              " 0.5594988251799968,\n",
              " 0.5589069602666078,\n",
              " 0.5481513379060704,\n",
              " 0.596353781444055,\n",
              " 0.5825264863269304,\n",
              " 0.5428386019335852,\n",
              " 0.560201432969835,\n",
              " 0.5634705091898258,\n",
              " 0.6624848544597626,\n",
              " 0.5849352180957794,\n",
              " 0.6267354360648564,\n",
              " 0.5174920641713672,\n",
              " 0.659548799196879,\n",
              " 0.6443382779757182,\n",
              " 0.6891312301158905,\n",
              " 0.5864824533462525,\n",
              " 0.586972065269947,\n",
              " 0.660832554101944,\n",
              " 0.5204217781623205,\n",
              " 0.503737313406808,\n",
              " 0.660832554101944,\n",
              " 0.5204217781623205,\n",
              " 0.503737313406808,\n",
              " 0.6428454572504217,\n",
              " 0.5601343760045908,\n",
              " 0.5283360145193465,\n",
              " 0.5590534141430488,\n",
              " 0.6039978046627605,\n",
              " 0.445329478631417,\n",
              " 0.5509998725127365,\n",
              " 0.6297701557095234,\n",
              " 0.528020844967277,\n",
              " 0.5852544346341381,\n",
              " 0.5982566677754925,\n",
              " 0.5208589357488296,\n",
              " 0.5127171197762856,\n",
              " 0.6085558694142562,\n",
              " 0.5983297874530157,\n",
              " 0.5485248593268571,\n",
              " 0.5768847969862131,\n",
              " 0.5974620500254253,\n",
              " 0.5516683592878538,\n",
              " 0.5993530232655374,\n",
              " 0.6199848055839539,\n",
              " 0.6246034042401747,\n",
              " 0.5631828573015001,\n",
              " 0.5583879528818904,\n",
              " 0.6692504872535837,\n",
              " 0.635304176789378,\n",
              " 0.6539345809391567,\n",
              " 0.6306850030654814,\n",
              " 0.5841401139540332,\n",
              " 0.6150453127920628,\n",
              " 0.5964233553217303,\n",
              " 0.537021612917835,\n",
              " 0.6316277548670769,\n",
              " 0.6111302269356591,\n",
              " 0.5753570292145014,\n",
              " 0.6272231799860796,\n",
              " 0.5712425212430603,\n",
              " 0.6020685628056526,\n",
              " 0.6705555015421928,\n",
              " 0.6007803114397186,\n",
              " 0.6352539383645716,\n",
              " 0.6122104601657137,\n",
              " 0.6333218787250847,\n",
              " 0.5729872401098948,\n",
              " 0.6744691444294794,\n",
              " 0.6212983293377835,\n",
              " 0.6752207288518548,\n",
              " 0.6587651573559817,\n",
              " 0.6526334972253868,\n",
              " 0.5862557157874108,\n",
              " 0.6806054979562759,\n",
              " 0.6123438048543353,\n",
              " 0.6774624139070511,\n",
              " 0.633047902584076,\n",
              " 0.6484279455774922,\n",
              " 0.6064387212196986,\n",
              " 0.6880084294080734,\n",
              " 0.6345020712242794,\n",
              " 0.6252311071971568,\n",
              " 0.6196825397682602,\n",
              " 0.6349459828725502,\n",
              " 0.6275193807871445,\n",
              " 0.606645233101315,\n",
              " 0.6250311568860085,\n",
              " 0.6043527823042225,\n",
              " 0.5886056709046267,\n",
              " 0.6680718907495824,\n",
              " 0.6324394563833873,\n",
              " 0.6641865797115095,\n",
              " 0.6215977445244789,\n",
              " 0.6390422769683473,\n",
              " 0.5895767371569361,\n",
              " 0.6232173850431162,\n",
              " 0.6030424628938947,\n",
              " 0.5722102873027325,\n",
              " 0.6038011362155279,\n",
              " 0.6230957676966985,\n",
              " 0.5669342102231206,\n",
              " 0.5735634004324675,\n",
              " 0.6224801607429982,\n",
              " 0.6009248479214662,\n",
              " 0.6332277868842257,\n",
              " 0.6597197853749798,\n",
              " 0.7107709248860677,\n",
              " 0.6121410121005483,\n",
              " 0.6675393523081489,\n",
              " 0.646224812457436,\n",
              " 0.6686304002555449,\n",
              " 0.6353651185830435,\n",
              " 0.6927936971187592,\n",
              " 0.5879610786453272,\n",
              " 0.618759063489992,\n",
              " 0.5762230112979357,\n",
              " 0.5886387827203554,\n",
              " 0.5802743458747863,\n",
              " 0.460398499853909,\n",
              " 0.6323251724243164,\n",
              " 0.5981256971756618,\n",
              " 0.6102491932756761,\n",
              " 0.6013096665533689,\n",
              " 0.5477082028985023,\n",
              " 0.6080339819192886,\n",
              " 0.5918495989427334,\n",
              " 0.5532105310509602,\n",
              " 0.64614029849569,\n",
              " 0.6791618416706721,\n",
              " 0.5975115777033827,\n",
              " 0.4816969906290372,\n",
              " 0.6390139945581848,\n",
              " 0.6137023572536076,\n",
              " 0.6155452978398118,\n",
              " 0.5684264191559383,\n",
              " 0.7075888175855983,\n",
              " 0.6088626423850656,\n",
              " 0.5906041795387864,\n",
              " 0.6378022890824538,\n",
              " 0.6531652423242728,\n",
              " 0.6411466259413805,\n",
              " 0.6842842033753792,\n",
              " 0.7117811005849105,\n",
              " 0.5711474778751532,\n",
              " 0.6854526271874254,\n",
              " 0.6638522300455305,\n",
              " 0.6270988674796357,\n",
              " 0.6461829800497402,\n",
              " 0.6159367346763611,\n",
              " 0.631982184946537,\n",
              " 0.5731282275366155,\n",
              " 0.6086845086968463,\n",
              " 0.6024716264895491,\n",
              " 0.691816058377145,\n",
              " 0.6100362164633615,\n",
              " 0.6847428078097957,\n",
              " 0.6372423705955347,\n",
              " 0.681896550874961,\n",
              " 0.659567945489758,\n",
              " 0.5657247247604223,\n",
              " 0.6437469954469375,\n",
              " 0.6608465818786308,\n",
              " 0.6394784526854027,\n",
              " 0.6351494760048099,\n",
              " 0.5721387798721725,\n",
              " 0.6343765852076036,\n",
              " 0.6394272052090276,\n",
              " 0.7162231559656105,\n",
              " 0.587350239094935,\n",
              " 0.6360354794038309,\n",
              " 0.5909863352775574,\n",
              " 0.5899503490199214,\n",
              " 0.6001369967693235,\n",
              " 0.6614045040762943,\n",
              " 0.6490127897442697,\n",
              " 0.6149281043093652,\n",
              " 0.6328245637672288,\n",
              " 0.6363879052492288,\n",
              " 0.643290891791835,\n",
              " 0.6075752191245556,\n",
              " 0.635103197961018,\n",
              " 0.6000788948825888,\n",
              " 0.673432622991857,\n",
              " 0.5725510358810425,\n",
              " 0.6943673681129109,\n",
              " 0.6465043956413865,\n",
              " 0.6242737209484461,\n",
              " 0.6344571558429914,\n",
              " 0.6336935673441205,\n",
              " 0.60437532295199,\n",
              " 0.5724098544854385,\n",
              " 0.5627191087295269,\n",
              " 0.5912134656400392,\n",
              " 0.6635744979507044,\n",
              " 0.5917328583967426,\n",
              " 0.7173337172716856,\n",
              " 0.6344414905741297,\n",
              " 0.6471758769317106,\n",
              " 0.5651641647730555,\n",
              " 0.5834707561484043,\n",
              " 0.6840436962934641,\n",
              " 0.6170889711057818,\n",
              " 0.6061414894850358,\n",
              " 0.6609815885038937,\n",
              " 0.5692249215725396,\n",
              " 0.582340785170679,\n",
              " 0.5518319417129863,\n",
              " 0.5825857532651801,\n",
              " 0.5890168275048093,\n",
              " 0.5740353929469864,\n",
              " 0.5711943258100481,\n",
              " 0.604735745543457,\n",
              " 0.6065703546628356,\n",
              " 0.6083289823361806,\n",
              " 0.5620543970002069,\n",
              " 0.6607290293591527,\n",
              " 0.6292305541309443,\n",
              " 0.579831111350575,\n",
              " 0.55908404890357,\n",
              " 0.5946038782323172,\n",
              " 0.6158141533533732,\n",
              " 0.607282767248781,\n",
              " 0.5810668248720844,\n",
              " 0.5785555314272642,\n",
              " 0.5962485365475281,\n",
              " 0.541611833151962,\n",
              " 0.5550080607740246,\n",
              " 0.6399049020331838,\n",
              " 0.6199848055839539,\n",
              " 0.6116512003657105,\n",
              " 0.5915043583687614,\n",
              " 0.607587485909462,\n",
              " 0.6461656351884206,\n",
              " 0.6144286974287424,\n",
              " 0.6299562594469856,\n",
              " 0.5832485293233117,\n",
              " 0.5620673269401362,\n",
              " 0.6312466967437003,\n",
              " 0.6794933273394903,\n",
              " 0.5908579281190547,\n",
              " 0.6159640730869386,\n",
              " 0.6019306935015178,\n",
              " 0.590609852263802,\n",
              " 0.6220409095287323,\n",
              " 0.5659507767393671,\n",
              " 0.5621716214550866,\n",
              " 0.5767517171122811,\n",
              " 0.6794759468598799,\n",
              " 0.621792025566101,\n",
              " 0.6069258507541431,\n",
              " 0.6456125719766868,\n",
              " 0.6087589338421822,\n",
              " 0.6644739246729648,\n",
              " 0.5121881239596875,\n",
              " 0.6346890341411245,\n",
              " 0.6449642985274917,\n",
              " 0.570094649798851,\n",
              " 0.6262396927674612,\n",
              " 0.6256398919856909,\n",
              " 0.5449898940521282,\n",
              " 0.5882170400086869,\n",
              " 0.6255640467846548,\n",
              " 0.641034762543368,\n",
              " 0.6180298763891341,\n",
              " 0.5950935333967209,\n",
              " 0.5769964828305728,\n",
              " 0.6495506729719773,\n",
              " 0.5529314926825464,\n",
              " 0.6130556198103088,\n",
              " 0.6113676100969314,\n",
              " 0.5832080991644608,\n",
              " 0.6244574017165339,\n",
              " 0.614377438437705,\n",
              " 0.5671873101821312,\n",
              " 0.6055084100613991,\n",
              " 0.5981773204791049,\n",
              " 0.5543077613445039,\n",
              " 0.5861737157987512,\n",
              " 0.5708276624692247,\n",
              " 0.6193113021160427,\n",
              " 0.5638852943015354,\n",
              " 0.5339907180193973,\n",
              " 0.6058653583551975,\n",
              " 0.6020555097167775,\n",
              " 0.6172338379547,\n",
              " 0.6247693967819213,\n",
              " 0.5495330951213837,\n",
              " 0.625210890505049,\n",
              " 0.5312350462464726,\n",
              " 0.6418636606207916,\n",
              " 0.6265845927927229,\n",
              " 0.5773637636076836,\n",
              " 0.5546297490596771,\n",
              " 0.5482182491766779,\n",
              " 0.6038845124624429,\n",
              " 0.6204352657641133,\n",
              " 0.6326520442962646,\n",
              " 0.5662504384588254,\n",
              " 0.6071739034040978,\n",
              " 0.594022406674013,\n",
              " 0.5833172143198723,\n",
              " 0.5637211386330317,\n",
              " 0.5894809758663178,\n",
              " 0.5844552352240211,\n",
              " 0.573191442216436,\n",
              " 0.5258451206119437,\n",
              " 0.5305586059888204,\n",
              " 0.5404146427000073,\n",
              " 0.6949421630965339,\n",
              " 0.5970473130297217,\n",
              " 0.606325331881148,\n",
              " 0.6036387976282132,\n",
              " 0.6018080928939983,\n",
              " 0.6205926942129205,\n",
              " 0.6013884119278082,\n",
              " 0.5917788464028169,\n",
              " 0.5929494231240824,\n",
              " 0.6138565140282548,\n",
              " 0.5964444022429617,\n",
              " 0.6660225208728544,\n",
              " 0.5928576894684466,\n",
              " 0.582026922951142,\n",
              " 0.5969407445618085,\n",
              " 0.5983020743355155,\n",
              " 0.5995585444486804,\n",
              " 0.5955902270972728,\n",
              " 0.6746157463206801,\n",
              " 0.5765484220361057,\n",
              " 0.600911891957124,\n",
              " 0.6335090063769242,\n",
              " 0.6229840906432075,\n",
              " 0.6007520937206555,\n",
              " 0.6319213553386576,\n",
              " 0.5918507417205905,\n",
              " 0.5468014823272824,\n",
              " 0.5852947817292324,\n",
              " 0.6829734843381694,\n",
              " 0.6672298766317821,\n",
              " 0.60490433126688,\n",
              " 0.6000926505435596,\n",
              " 0.6175733662169912,\n",
              " 0.6370319638620404,\n",
              " 0.688771576650681,\n",
              " 0.6785620930402175,\n",
              " 0.6234844845409194,\n",
              " 0.637887618607945,\n",
              " 0.6064874710458698,\n",
              " 0.6359948347776364,\n",
              " 0.6596655082284358,\n",
              " 0.6361416394568302,\n",
              " 0.6873325109481812,\n",
              " 0.5482838807834519,\n",
              " 0.6278886183145198,\n",
              " 0.6249262042667555,\n",
              " 0.6420562180077157,\n",
              " 0.5787439927458763,\n",
              " 0.5951384360140021,\n",
              " 0.6206446578726172,\n",
              " 0.6791884531366065,\n",
              " 0.6324229310540592,\n",
              " 0.6844982055517344,\n",
              " 0.6309170530688378,\n",
              " 0.6605908396569166,\n",
              " 0.6370669090085559,\n",
              " 0.5915505267799862,\n",
              " 0.6691959391037623,\n",
              " 0.6128263142999522,\n",
              " 0.48750682175159454,\n",
              " 0.5739475091298422,\n",
              " 0.6225546381690286,\n",
              " 0.6043911801802145,\n",
              " 0.6401597704206194,\n",
              " 0.59419901445508,\n",
              " 0.662992325364327,\n",
              " 0.4315892921553718,\n",
              " 0.6978085260642203,\n",
              " 0.6464836150407791,\n",
              " 0.6211301633156836,\n",
              " 0.6408134567737579,\n",
              " 0.6432605817531928,\n",
              " 0.6865409401155287,\n",
              " 0.5761993034254937,\n",
              " 0.5967479944229126,\n",
              " 0.6527357841691663,\n",
              " 0.6768451942638918,\n",
              " 0.649921941180383,\n",
              " 0.7145550176501274,\n",
              " 0.6410278275347593,\n",
              " 0.5811096909973357,\n",
              " 0.6335802255519505,\n",
              " 0.7180866959483124,\n",
              " 0.623909922998126,\n",
              " 0.6448904244850079,\n",
              " 0.6113261665041382,\n",
              " 0.5886560050216881,\n",
              " 0.6733741291931697,\n",
              " 0.6781505922476451,\n",
              " 0.5471100250879923,\n",
              " 0.6727770413413192,\n",
              " 0.712475219120582,\n",
              " 0.6377520437898307,\n",
              " 0.6312389969825745,\n",
              " 0.6792554975975127,\n",
              " 0.5875889749990569,\n",
              " 0.6114417173360523,\n",
              " 0.6196043379604816,\n",
              " 0.663541242843721,\n",
              " 0.6178537431885215,\n",
              " 0.6733769224240229,\n",
              " 0.6776363615478788,\n",
              " 0.6035545524713155,\n",
              " 0.5913144485690655,\n",
              " 0.6736250105831358,\n",
              " 0.6546483117121237,\n",
              " 0.6222536846044215,\n",
              " 0.6112908025582632,\n",
              " 0.6438085713556835,\n",
              " 0.6164413729593867,\n",
              " 0.6151855427771806,\n",
              " 0.5405894394886369,\n",
              " 0.5994058645540669,\n",
              " 0.6486108944647841,\n",
              " 0.7015792884760432,\n",
              " 0.5805986953132293,\n",
              " 0.6061313855648041,\n",
              " 0.6455138589327152,\n",
              " 0.6591612474715456,\n",
              " 0.6328128037544397,\n",
              " 0.700894513006868,\n",
              " 0.6598961120598936,\n",
              " 0.624625009312122,\n",
              " 0.588418485596776,\n",
              " 0.6225999519228935,\n",
              " 0.6597854180915935,\n",
              " 0.6468092209349076,\n",
              " 0.657574284602614,\n",
              " 0.6635324920599277,\n",
              " 0.6789368850489458,\n",
              " 0.7002622652344588,\n",
              " 0.566794057403292,\n",
              " 0.6810884303771533,\n",
              " 0.5924201502368368,\n",
              " 0.6334653879914965,\n",
              " 0.6312001978649813,\n",
              " 0.634057354595926,\n",
              " 0.6757808856425747,\n",
              " 0.5792287064450128,\n",
              " 0.6816238150710151,\n",
              " 0.6105506352839931,\n",
              " 0.6742744552639296,\n",
              " 0.6976506041956472,\n",
              " 0.6131064922294833,\n",
              " 0.700375269288602,\n",
              " 0.6251804147865258,\n",
              " 0.5833550798329147,\n",
              " 0.6500655096024275,\n",
              " 0.5958415185092786,\n",
              " 0.6548136305234847,\n",
              " 0.6119361589216206,\n",
              " 0.6036957404017449,\n",
              " 0.6109222119504755,\n",
              " 0.6631558891889211,\n",
              " 0.6351442014177641,\n",
              " 0.6143307730902073,\n",
              " 0.5413679313328531,\n",
              " 0.5961716871723415,\n",
              " 0.5714795404010349,\n",
              " 0.5986465989582,\n",
              " 0.5560168214142323,\n",
              " 0.6425444098810354,\n",
              " 0.6090488817091241,\n",
              " 0.6092050042417314,\n",
              " 0.6691989342371623,\n",
              " 0.5818020459264517,\n",
              " 0.5973516181111336,\n",
              " 0.6007655256173827,\n",
              " 0.5621934310544895,\n",
              " 0.6262374310330912,\n",
              " 0.5473783690896299,\n",
              " 0.5910614597797393,\n",
              " 0.5833755148256697,\n",
              " 0.6174675590783647,\n",
              " 0.6341155765453974,\n",
              " 0.621552724391222,\n",
              " 0.5958580392599105,\n",
              " 0.5916913864287463,\n",
              " 0.6140293838346705,\n",
              " 0.6066237165604109,\n",
              " 0.6087953290518593,\n",
              " 0.6117944312095642,\n",
              " 0.5973463183246464,\n",
              " 0.5983179499061755,\n",
              " 0.605323847044598,\n",
              " 0.6289979054530461,\n",
              " 0.6559189998290755,\n",
              " 0.655847907728619,\n",
              " 0.62933628650812,\n",
              " 0.6727120985205357,\n",
              " 0.6281371451005703,\n",
              " 0.6045304127475795,\n",
              " 0.6357979731577815,\n",
              " 0.6061858630421534,\n",
              " 0.5763314978943931,\n",
              " 0.5453337799343798,\n",
              " 0.6511212566803242,\n",
              " 0.6153074458793357,\n",
              " 0.5701644392931355,\n",
              " 0.6367965071432052,\n",
              " 0.6214086233892224,\n",
              " 0.6072423473000527,\n",
              " 0.5381487569747827,\n",
              " 0.564360003386225,\n",
              " 0.5942649431949989,\n",
              " 0.5415046685375273,\n",
              " 0.6199848055839539,\n",
              " 0.6125239194218629,\n",
              " 0.5890676568488817,\n",
              " 0.668671190738678,\n",
              " 0.6032778437116316,\n",
              " 0.6163250654935837,\n",
              " 0.629621170686953,\n",
              " 0.7077916123365101,\n",
              " 0.5880095148086548,\n",
              " 0.5367674695860062,\n",
              " 0.6458342000842094,\n",
              " 0.6200089895206949,\n",
              " 0.6029549641855831,\n",
              " 0.6034915497792619,\n",
              " 0.584352087817694,\n",
              " 0.6555976286912576,\n",
              " 0.6007878661396042,\n",
              " 0.5763506929079691,\n",
              " 0.5938656162470579,\n",
              " 0.669247110252795,\n",
              " 0.5932915530034474,\n",
              " 0.6168837476717798,\n",
              " 0.5493612994040762,\n",
              " 0.6113721229709111,\n",
              " 0.5727150035090744,\n",
              " 0.5953176127513871,\n",
              " 0.6253342100165107,\n",
              " 0.6446737825143628,\n",
              " 0.5792732917376466,\n",
              " 0.6165737368558583,\n",
              " 0.5735121584600873,\n",
              " 0.5321747336698615,\n",
              " 0.6452597957104445,\n",
              " 0.6372548020803012,\n",
              " 0.6377804216585661,\n",
              " 0.624284599836056,\n",
              " 0.6562200257820743,\n",
              " 0.5672181905971633,\n",
              " 0.686129388840575,\n",
              " 0.6264408949543449,\n",
              " 0.5639906057289669,\n",
              " 0.6736855496253286,\n",
              " 0.577555270306766,\n",
              " 0.6083562645842048,\n",
              " 0.640231667987762,\n",
              " 0.6381421033293009,\n",
              " 0.5694785337699088,\n",
              " 0.6224521229212935,\n",
              " 0.6153491162940076,\n",
              " 0.5309792618666377,\n",
              " 0.6155443759191603,\n",
              " 0.5720578955752509,\n",
              " 0.6082403466982,\n",
              " 0.6334830977414784,\n",
              " 0.6429644737924848,\n",
              " 0.6137561202049255,\n",
              " 0.5486594448166509,\n",
              " 0.7351813275129238,\n",
              " 0.6761537468433381,\n",
              " 0.5823149175187687,\n",
              " 0.5847014685308463,\n",
              " 0.5959212809408966,\n",
              " 0.6324547398835421,\n",
              " 0.5131866727024317,\n",
              " 0.5576913874182436,\n",
              " 0.6146583148077422,\n",
              " 0.5441024489700794,\n",
              " 0.6927131955440228,\n",
              " 0.6454263136881154,\n",
              " 0.7005409772197405,\n",
              " 0.5970206337315695,\n",
              " 0.6217816328664996,\n",
              " 0.5761938850084941,\n",
              " 0.4868127081928582,\n",
              " 0.6247265470378539,\n",
              " 0.7081155673317288,\n",
              " 0.5981397889554501,\n",
              " 0.5580728430497018,\n",
              " 0.6380028821089688,\n",
              " 0.6830100376497615,\n",
              " 0.6209329684575399,\n",
              " 0.5286597330123186,\n",
              " 0.6588034561047187,\n",
              " 0.5940390361679925,\n",
              " 0.5850146061951115,\n",
              " 0.6665667980909348,\n",
              " 0.6117802249713683,\n",
              " 0.5746032395823435,\n",
              " 0.7678216187392964,\n",
              " 0.5204491118590037,\n",
              " 0.6794291830488614,\n",
              " 0.6005580065151056,\n",
              " 0.6048982664942741,\n",
              " 0.6195523738861084,\n",
              " 0.5632692215343317,\n",
              " 0.5930687678711755,\n",
              " 0.6903805704343886,\n",
              " 0.5852526869322803,\n",
              " 0.6098587223461696,\n",
              " 0.5722044646166838,\n",
              " 0.6648419044911862,\n",
              " 0.6788118940497202,\n",
              " 0.5823430550449035,\n",
              " 0.6557708024978638,\n",
              " 0.5400925802114682,\n",
              " 0.6292938344180584,\n",
              " 0.5592230207497074,\n",
              " 0.6530882846564054,\n",
              " 0.6372605108401992,\n",
              " 0.6260680357615153,\n",
              " 0.6927294460209933,\n",
              " 0.5803205133911143,\n",
              " 0.6438922345638275,\n",
              " 0.5827367935396198,\n",
              " 0.632152854363517,\n",
              " 0.6061212280482957,\n",
              " 0.5132958802366347,\n",
              " 0.6125752304824407,\n",
              " 0.603795918960904,\n",
              " 0.5601750864432409,\n",
              " 0.6296610920987231,\n",
              " 0.6059605737349817,\n",
              " 0.6604137666847395,\n",
              " 0.580106926560402,\n",
              " 0.647180669687011,\n",
              " 0.6662134047477476,\n",
              " 0.6163004938335646,\n",
              " 0.6219023871421814,\n",
              " 0.6412586108372923,\n",
              " 0.5774801593077811,\n",
              " 0.6726745877947126,\n",
              " 0.6125676955968614,\n",
              " 0.6194163798651797,\n",
              " 0.6323250258962313,\n",
              " 0.6572420413677509,\n",
              " 0.6500814218933766,\n",
              " 0.6064024088350503,\n",
              " 0.6123017672778798,\n",
              " 0.6076290212571621,\n",
              " 0.6254077861324335,\n",
              " 0.5880695746133202,\n",
              " 0.5610220615278211,\n",
              " 0.5606214938064417,\n",
              " 0.5730851389337004,\n",
              " 0.6142993080811422,\n",
              " 0.5926753996560971,\n",
              " 0.5563652518548463,\n",
              " ...]"
            ]
          },
          "metadata": {
            "tags": []
          },
          "execution_count": 43
        }
      ]
    },
    {
      "cell_type": "code",
      "metadata": {
        "id": "bl12s6qAKeL7",
        "colab_type": "code",
        "outputId": "5a88399b-532b-4528-ac03-941f66e32d35",
        "colab": {
          "base_uri": "https://localhost:8080/",
          "height": 156
        }
      },
      "source": [
        "!pip install xlutils\n",
        "import xlwt,xlrd\n",
        "from xlutils.copy import copy\n",
        "\n",
        "rd = xlrd.open_workbook('/content/drive/My Drive/dataset/Final_dataset.xlsx')\n",
        "wt = copy(rd)\n",
        "sh = wt.get_sheet(0)\n",
        "line = 1\n",
        "for i in scores:\n",
        "  sh.write(line,9,i)\n",
        "  line += 1\n",
        "wt.save('/content/drive/My Drive/dataset/Final_dataset.xlsx')"
      ],
      "execution_count": 0,
      "outputs": [
        {
          "output_type": "stream",
          "text": [
            "Collecting xlutils\n",
            "\u001b[?25l  Downloading https://files.pythonhosted.org/packages/c7/55/e22ac73dbb316cabb5db28bef6c87044a95914f713a6e81b593f8a0d2f79/xlutils-2.0.0-py2.py3-none-any.whl (55kB)\n",
            "\r\u001b[K     |██████                          | 10kB 22.9MB/s eta 0:00:01\r\u001b[K     |████████████                    | 20kB 3.1MB/s eta 0:00:01\r\u001b[K     |█████████████████▉              | 30kB 4.4MB/s eta 0:00:01\r\u001b[K     |███████████████████████▉        | 40kB 2.9MB/s eta 0:00:01\r\u001b[K     |█████████████████████████████▊  | 51kB 3.5MB/s eta 0:00:01\r\u001b[K     |████████████████████████████████| 61kB 2.9MB/s \n",
            "\u001b[?25hRequirement already satisfied: xlrd>=0.7.2 in /usr/local/lib/python3.6/dist-packages (from xlutils) (1.1.0)\n",
            "Requirement already satisfied: xlwt>=0.7.4 in /usr/local/lib/python3.6/dist-packages (from xlutils) (1.3.0)\n",
            "Installing collected packages: xlutils\n",
            "Successfully installed xlutils-2.0.0\n"
          ],
          "name": "stdout"
        }
      ]
    }
  ]
}